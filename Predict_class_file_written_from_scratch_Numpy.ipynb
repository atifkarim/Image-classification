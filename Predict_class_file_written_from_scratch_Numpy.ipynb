{
 "cells": [
  {
   "cell_type": "markdown",
   "metadata": {},
   "source": [
    "# In this file I am trying to test model file by writing a code only using Numpy. No Keras API has used here. Main part will start by extracting the weight from model file. For loading model.h5 file Keras has used. Preprocessing also has done using some other library."
   ]
  },
  {
   "cell_type": "markdown",
   "metadata": {},
   "source": [
    "# This file will work for multi convolution filter\n",
    "# Still some issue with convolution bias value"
   ]
  },
  {
   "cell_type": "markdown",
   "metadata": {},
   "source": [
    "# Preprocessing the image"
   ]
  },
  {
   "cell_type": "code",
   "execution_count": 2,
   "metadata": {},
   "outputs": [],
   "source": [
    "import numpy as np\n",
    "from skimage import io, color, exposure, transform\n",
    "from skimage.color import rgb2gray\n",
    "#from sklearn.cross_validation import train_test_split\n",
    "from sklearn.model_selection import train_test_split  #it came from update scikit learn. https://stackoverflow.com/questions/40704484/importerror-no-module-named-model-selection\n",
    "import os\n",
    "import glob\n",
    "import h5py\n",
    "\n",
    "from matplotlib import pyplot as plt\n",
    "%matplotlib inline\n",
    "\n",
    "#import keras\n",
    "\n",
    "NUM_CLASSES = 9\n",
    "IMG_SIZE = 48"
   ]
  },
  {
   "cell_type": "code",
   "execution_count": 25,
   "metadata": {},
   "outputs": [
    {
     "name": "stdout",
     "output_type": "stream",
     "text": [
      "\n",
      " /home/atif/image_classification_c++/multi_filter_cpp/test_image/00000_00023.ppm\n",
      "predicted class:  [0]\n",
      "probability:  [[9.9994326e-01 5.4284519e-05 9.5645614e-15 5.9856886e-16 5.2972382e-07\n",
      "  1.9570712e-06 5.6076757e-16 1.8678934e-12 7.6335409e-14]]\n",
      "\n",
      " /home/atif/image_classification_c++/multi_filter_cpp/test_image/stop.ppm\n",
      "predicted class:  [1]\n",
      "probability:  [[5.5017167e-13 9.9084878e-01 1.1804733e-17 5.7442348e-13 2.8099361e-14\n",
      "  7.2337315e-17 9.1510238e-03 1.8840598e-07 2.2821717e-21]]\n"
     ]
    }
   ],
   "source": [
    "from keras.models import load_model\n",
    "model = load_model('/home/atif/image_classification_c++/multi_filter_cpp/traffic_2_filter_no_pad_gray_ep_100_for_cpp.h5') # path of saved trained model file\n",
    "\n",
    "\n",
    "def preprocess_img(img):\n",
    "#     Histogram normalization in y\n",
    "#     hsv = color.rgb2hsv(img)\n",
    "#     hsv[:,:,2] = exposure.equalize_hist(hsv[:,:,2])\n",
    "#     img = color.hsv2rgb(hsv)\n",
    "\n",
    "    # central scrop\n",
    "    min_side = min(img.shape[:-1])\n",
    "    centre = img.shape[0]//2, img.shape[1]//2\n",
    "    img = img[centre[0]-min_side//2:centre[0]+min_side//2,\n",
    "              centre[1]-min_side//2:centre[1]+min_side//2,\n",
    "              :]\n",
    "    img = rgb2gray(img)\n",
    "\n",
    "    # rescale to standard size\n",
    "    img = transform.resize(img, (IMG_SIZE, IMG_SIZE))\n",
    "\n",
    "    # roll color axis to axis 0\n",
    "    img = np.rollaxis(img,-1)\n",
    "\n",
    "    return img\n",
    "\n",
    "import glob\n",
    "\n",
    "path = r'/home/atif/image_classification_c++/multi_filter_cpp/test_image/'\n",
    "\n",
    "img_path = glob.glob(path+ '/*.ppm')  #change ppm to your desired file extension\n",
    "for image in img_path:\n",
    "    X_test=[]\n",
    "    X_test.append(preprocess_img(io.imread(image)))\n",
    "    X_test = np.array(X_test)\n",
    "#     plt.imshow(X_test)\n",
    "    X_test = X_test.reshape(len(X_test),1,IMG_SIZE,IMG_SIZE)\n",
    "    \n",
    "    print(\"\\n\",image)\n",
    "    predicted_class = model.predict_classes(X_test)\n",
    "    print(\"predicted class: \",predicted_class)\n",
    "    \n",
    "    probability = model.predict_proba(X_test)\n",
    "    print(\"probability: \",probability)"
   ]
  },
  {
   "cell_type": "markdown",
   "metadata": {},
   "source": [
    "# Extracting weight information from  model.h5 file."
   ]
  },
  {
   "cell_type": "code",
   "execution_count": 15,
   "metadata": {},
   "outputs": [
    {
     "name": "stdout",
     "output_type": "stream",
     "text": [
      "conv_kernel: \n",
      " [[[[-1.2551264   1.3612176   2.726472  ]\n",
      "   [-0.81150454  1.0559597   2.4288604 ]\n",
      "   [-2.2760212  -0.57018733 -0.53823084]]]\n",
      "\n",
      "\n",
      " [[[ 1.0510021   0.07008973 -1.1867875 ]\n",
      "   [-0.6361769  -1.4376642  -1.6697451 ]\n",
      "   [-0.12333418 -0.72826564 -0.9773183 ]]]] \n",
      "\n",
      "\n",
      "conv_kernel shape:\t (2, 1, 3, 3) \n",
      "\n",
      "\n",
      "conv kernel dimension:\t 4 \n",
      "\n",
      "\n",
      "type_conv_kernel: <class 'numpy.ndarray'> \n",
      "\n",
      "conv_bias_value:  [0.01443624 1.3674825 ]\n",
      "conv_bias ndim:  1 \n",
      "\n",
      "\n",
      "dense_kernel: \n",
      " [[-0.10735643  0.1640812   0.01809431 ... -0.00946912  0.02848358\n",
      "   0.030178  ]\n",
      " [ 0.01419004  0.04051202 -0.01726801 ...  0.03679919 -0.01469056\n",
      "   0.00603583]\n",
      " [-0.16923815  0.00935     0.05318739 ... -0.03917252  0.00961874\n",
      "   0.03357002]\n",
      " ...\n",
      " [-0.00470943 -0.01924564 -0.03366284 ...  0.00219134 -0.02493748\n",
      "  -0.02235573]\n",
      " [-0.00165659  0.15928343 -0.03851683 ...  0.01218016 -0.01192294\n",
      "  -0.0396612 ]\n",
      " [-0.02387131  0.01669946 -0.0110182  ... -0.04726045 -0.02935163\n",
      "  -0.02188727]] \n",
      "\n",
      "\n",
      "dense_kernel shape:\t (4232, 9) \n",
      "\n",
      "\n",
      "dense_kernel dimension:\t 2 \n",
      "\n",
      "\n",
      "type_dense_kernel: <class 'numpy.ndarray'> \n",
      "\n",
      "dense_kernel size:  38088 \n",
      "\n",
      "dense_bias:  [-0.01253249  0.19295532  0.06694246  0.18706687 -0.24281958  0.13072969\n",
      " -0.02468821 -0.22385639 -0.07379571]\n",
      "dense_bias_shape:  (9,)\n",
      "dense_bias_shape:  (1, 9)\n"
     ]
    }
   ],
   "source": [
    "import pandas as pd\n",
    "model = load_model('/home/atif/image_classification_c++/multi_filter_cpp/traffic_2_filter_no_pad_gray_ep_100_for_cpp.h5')\n",
    "\n",
    "layer_list =[]\n",
    "f = open('/home/atif/path_for_storing_all_layer_info.txt', 'w') #uncomment it if you want to store all layer info at a time.\n",
    "for layer in model.layers:\n",
    "    g=layer.get_config()\n",
    "    h=layer.get_weights()\n",
    "    \n",
    "    layer_list.append(h)\n",
    "#     print (\"g== \",g,\"\\n\") #for printing layer name and verbal info\n",
    "\n",
    "#     print (\"h== \",h,\"\\n\\n\") # for printing layer numeric value, eg: weight, bias value\n",
    "#     print(\"type_of g == \",type(g),\"\\n\")\n",
    "#     print(\"type_of h == \",type(h),\"\\n\")\n",
    "\n",
    "# below lines till f.close() used for writing in text file. To do this you have to uncomment the above line started with f.open() also.\n",
    "\n",
    "#     g1=str(g) # declaring a string variable g1 to store the info of g\n",
    "#     h1=str(h) #declaring a string variable h1 to store the info of h\n",
    "#     g_type=str(type(g)) #declaring a string variable g1 to store the type of g\n",
    "#     h_type=str(type(h)) #declaring a string variable h1 to store the type of h\n",
    "    \n",
    "#     f.write(\"layer_definition: \"+g1+\"\\n\\n\")\n",
    "#     f.write(\"layer_type: \"+g_type+\"\\n\\n\")\n",
    "#     #f.write(\"\\n\")\n",
    "#     f.write(\"layer_weight: \"+h1+\"\\n\\n\")\n",
    "#     f.write(\"weight_type: \"+h_type+\"\\n\\n\\n\")\n",
    "#     f.write(\"\\n\")\n",
    "    \n",
    "# f.close()\n",
    "\n",
    "# layer_name=['conv_layer','flatten_layer','dense_layer']\n",
    "\n",
    "\n",
    "\n",
    "#From here the code has started which will extract every layer's info which you can use further in this file\n",
    "        \n",
    "conv_kernel=layer_list[0][0]\n",
    "conv_kernel=conv_kernel.transpose()\n",
    "print(\"conv_kernel: \\n\",conv_kernel,\"\\n\\n\")\n",
    "print(\"conv_kernel shape:\\t\",conv_kernel.shape,\"\\n\\n\")\n",
    "print(\"conv kernel dimension:\\t\",conv_kernel.ndim,\"\\n\\n\")\n",
    "print(\"type_conv_kernel:\",type(conv_kernel),\"\\n\")\n",
    "\n",
    "#conv_kernel_reshape=conv_kernel.reshape(conv_kernel[3],conv_kernel[2],conv_kernel[1],conv_kernel[0])\n",
    "#print(\"re:  \",conv_kernel_reshape.shape)\n",
    "\n",
    "\n",
    "\n",
    "conv_bias=layer_list[0][1]\n",
    "print(\"conv_bias_value: \",conv_bias)\n",
    "print(\"conv_bias ndim: \",conv_bias.ndim,\"\\n\\n\")\n",
    "\n",
    "\n",
    "\n",
    "dense_kernel=layer_list[2][0]\n",
    "print(\"dense_kernel: \\n\",dense_kernel,\"\\n\\n\")\n",
    "print(\"dense_kernel shape:\\t\",dense_kernel.shape,\"\\n\\n\")\n",
    "print(\"dense_kernel dimension:\\t\",dense_kernel.ndim,\"\\n\\n\")\n",
    "print(\"type_dense_kernel:\",type(dense_kernel),\"\\n\")\n",
    "print(\"dense_kernel size: \",dense_kernel.size,\"\\n\")\n",
    "# dense_1_transpose=dense__1.transpose()\n",
    "# print(\"dense_1_transpose: \",dense_1_transpose,\"\\n\\n\")\n",
    "\n",
    "\n",
    "dense_bias=layer_list[2][1]\n",
    "print(\"dense_bias: \",dense_bias)\n",
    "print(\"dense_bias_shape: \",dense_bias.shape)\n",
    "dense_bias=dense_bias.reshape(1,9) # here chenge 5 to the number of your used class\n",
    "print(\"dense_bias_shape: \",dense_bias.shape)\n",
    "# print(dense_2[0])\n",
    "\n",
    "\n",
    "# Below code stand for writing all info regarding specific layer in a text file. Not important. Uncomment if you need.\n",
    "\n",
    "# write_conv_kernel=str(conv_kernel)\n",
    "# write_conv_bias=str(conv_bias)\n",
    "# write_dense_kernel=str(dense_kernel)\n",
    "# write_dense_bias=str(dense_bias)\n",
    "\n",
    "\n",
    "# f = open('/home/atif/training_by_several_learning_process/flower_photos/train_model_flower/flw_gray_ch_1_ep_100_no_pad_relu_31_dec_dense_kernel.txt', 'w')\n",
    "\n",
    "# # f.write(\"write_conv_kernel:\\n\\n\"+write_conv_kernel+\"\\n\\n\")\n",
    "\n",
    "# # f.write(\"write_conv_bias:\\n\\n\"+write_conv_bias+\"\\n\\n\")\n",
    "\n",
    "# # f.write(\"write_dense_kernel:\\n\\n\"+write_dense_kernel+\"\\n\\n\")\n",
    "\n",
    "# # f.write(\"write_dense_bias:\\n\\n\"+write_dense_bias+\"\\n\\n\")\n",
    "\n",
    "\n",
    "\n",
    "# f.close()"
   ]
  },
  {
   "cell_type": "markdown",
   "metadata": {},
   "source": [
    "# Storing convolution kernel weight in a text file which you can use for C++ purpose"
   ]
  },
  {
   "cell_type": "code",
   "execution_count": 18,
   "metadata": {},
   "outputs": [
    {
     "name": "stdout",
     "output_type": "stream",
     "text": [
      "[[[-1.2551264   1.3612176   2.726472  ]\n",
      "  [-0.81150454  1.0559597   2.4288604 ]\n",
      "  [-2.2760212  -0.57018733 -0.53823084]]]\n",
      "[[[ 1.0510021   0.07008973 -1.1867875 ]\n",
      "  [-0.6361769  -1.4376642  -1.6697451 ]\n",
      "  [-0.12333418 -0.72826564 -0.9773183 ]]]\n"
     ]
    }
   ],
   "source": [
    "# storing convolution kernel weight\n",
    "\n",
    "conv_kernel=layer_list[0][0]\n",
    "conv_kernel=conv_kernel.transpose() # This has made to print it like a Matrix form. \n",
    "i_list=[]\n",
    "for i in conv_kernel:\n",
    "#     print(i)\n",
    "    i_list.append(i)\n",
    "#     for k in i:\n",
    "#         print(k)\n",
    "#         i_list.append(k)\n",
    "# print(i_list)\n",
    "i_list_array=[]\n",
    "i_list_array=np.array(i_list)\n",
    "# print(i_list_array.shape)\n",
    "# i_list_array=i_list_array.reshape(2,3,3)\n",
    "# print(i_list_array.ndim)\n",
    "\n",
    "for p in i_list_array:\n",
    "#     for a in p:\n",
    "#         print(a)\n",
    "    print(p)\n",
    "    ww=str(p)\n",
    "    ww=ww.replace('[','')\n",
    "    ww=ww.replace(']','')\n",
    "    f=open('/home/atif/conv_k_w.txt','a')\n",
    "    f.write(ww)\n",
    "    f.write(\"\\n\")\n",
    "f.close()"
   ]
  },
  {
   "cell_type": "markdown",
   "metadata": {},
   "source": [
    "# Storing dense kernel weight directly from the array in a text file"
   ]
  },
  {
   "cell_type": "code",
   "execution_count": 19,
   "metadata": {},
   "outputs": [
    {
     "name": "stdout",
     "output_type": "stream",
     "text": [
      "[[-0.10735643  0.1640812   0.01809431 ... -0.00946912  0.02848358\n",
      "   0.030178  ]\n",
      " [ 0.01419004  0.04051202 -0.01726801 ...  0.03679919 -0.01469056\n",
      "   0.00603583]\n",
      " [-0.16923815  0.00935     0.05318739 ... -0.03917252  0.00961874\n",
      "   0.03357002]\n",
      " ...\n",
      " [-0.00470943 -0.01924564 -0.03366284 ...  0.00219134 -0.02493748\n",
      "  -0.02235573]\n",
      " [-0.00165659  0.15928343 -0.03851683 ...  0.01218016 -0.01192294\n",
      "  -0.0396612 ]\n",
      " [-0.02387131  0.01669946 -0.0110182  ... -0.04726045 -0.02935163\n",
      "  -0.02188727]]\n"
     ]
    }
   ],
   "source": [
    "dense_kernel=layer_list[2][0]\n",
    "i_list=[] #declare a list to store the weight of dense kernel\n",
    "for i in dense_kernel:\n",
    "#     print(i)\n",
    "    i_list.append(i) #appended it in the declared list\n",
    "#     for k in i:\n",
    "# #         print(k)\n",
    "#         i_list.append(k)\n",
    "# print(i_list)\n",
    "i_list_array=[] #declared an array\n",
    "i_list_array=np.array(i_list) # store the value of list in the array\n",
    "print(i_list_array)\n",
    "np.savetxt('/home/atif/dense_k_w.txt', i_list_array, fmt='%1.8e',delimiter=' ') #writing on a text file from array\n",
    "# %.8f\n",
    "# fmt='%1.8e' #add this above line after i_list_aray"
   ]
  },
  {
   "cell_type": "markdown",
   "metadata": {},
   "source": [
    "# Storing info of convolution bias in text file"
   ]
  },
  {
   "cell_type": "code",
   "execution_count": 20,
   "metadata": {},
   "outputs": [
    {
     "name": "stdout",
     "output_type": "stream",
     "text": [
      "[0.01443624 1.3674825 ]\n"
     ]
    }
   ],
   "source": [
    "# storing conv_bias\n",
    "\n",
    "conv_bias=layer_list[0][1]\n",
    "conv_bias_list=[]\n",
    "for i in conv_bias:\n",
    "    conv_bias_list.append(i)\n",
    "\n",
    "conv_bias_array=[]\n",
    "conv_bias_array=np.array(conv_bias_list)\n",
    "print(conv_bias_array)\n",
    "np.savetxt('/home/atif/conv_k_b.txt', conv_bias_array, fmt='%1.8e',delimiter=' ')"
   ]
  },
  {
   "cell_type": "markdown",
   "metadata": {},
   "source": [
    "# Storing info of dense bias in text file"
   ]
  },
  {
   "cell_type": "code",
   "execution_count": 21,
   "metadata": {},
   "outputs": [
    {
     "name": "stdout",
     "output_type": "stream",
     "text": [
      "[-0.01253249  0.19295532  0.06694246  0.18706687 -0.24281958  0.13072969\n",
      " -0.02468821 -0.22385639 -0.07379571]\n"
     ]
    }
   ],
   "source": [
    "#storing dense_bias value\n",
    "\n",
    "dense_bias=layer_list[2][1]\n",
    "dense_bias_list=[]\n",
    "for i in dense_bias:\n",
    "    dense_bias_list.append(i)\n",
    "\n",
    "dense_bias_array=[]\n",
    "dense_bias_array=np.array(dense_bias_list)\n",
    "print(dense_bias_array)\n",
    "np.savetxt('/home/atif/dense_bb.txt', dense_bias_array, fmt='%1.8e',delimiter=' ')"
   ]
  },
  {
   "cell_type": "markdown",
   "metadata": {},
   "source": [
    "## Below at first, I am making conv_kernel suitable for the approach. Like reshaping and storing in an suitable array to get dim = 3"
   ]
  },
  {
   "cell_type": "code",
   "execution_count": 23,
   "metadata": {},
   "outputs": [
    {
     "name": "stdout",
     "output_type": "stream",
     "text": [
      "conv_kernel:\n",
      " [[[[-1.2551264   1.3612176   2.726472  ]\n",
      "   [-0.81150454  1.0559597   2.4288604 ]\n",
      "   [-2.2760212  -0.57018733 -0.53823084]]]\n",
      "\n",
      "\n",
      " [[[ 1.0510021   0.07008973 -1.1867875 ]\n",
      "   [-0.6361769  -1.4376642  -1.6697451 ]\n",
      "   [-0.12333418 -0.72826564 -0.9773183 ]]]] \n",
      "\n",
      "conv_kernel_shape: (2, 1, 3, 3) \tconv_kernel ndim: 4 \n",
      "\n",
      "length of conv_kernel: 2 \n",
      "\n",
      "conv_kernel_reshape:\n",
      " [[[-1.2551264   1.3612176   2.726472  ]\n",
      "  [-0.81150454  1.0559597   2.4288604 ]\n",
      "  [-2.2760212  -0.57018733 -0.53823084]]\n",
      "\n",
      " [[ 1.0510021   0.07008973 -1.1867875 ]\n",
      "  [-0.6361769  -1.4376642  -1.6697451 ]\n",
      "  [-0.12333418 -0.72826564 -0.9773183 ]]] \n",
      "\n",
      "conv_kernel_reshape shape: (2, 3, 3) \tconv_kernel_reshape ndim: 3 \n",
      "\n",
      "length of conv_kernel_reshape: 3 \n",
      "\n",
      "convolution_kernel_filter: \n",
      " [[[-1.25512636  1.36121762  2.7264719 ]\n",
      "  [-0.81150454  1.0559597   2.42886043]\n",
      "  [-2.27602124 -0.57018733 -0.53823084]]\n",
      "\n",
      " [[ 1.05100214  0.07008973 -1.18678749]\n",
      "  [-0.63617688 -1.43766415 -1.66974509]\n",
      "  [-0.12333418 -0.72826564 -0.97731829]]] \n",
      "\n",
      "convolution_kernel_filter shape: (2, 3, 3) \tconvolution_kernel_filter ndim: 3 \n",
      "\n",
      "length of convolution_kernel_filter: 2 \n",
      "\n"
     ]
    }
   ],
   "source": [
    "print(\"conv_kernel:\\n\",conv_kernel,\"\\n\")\n",
    "print(\"conv_kernel_shape:\",conv_kernel.shape,\"\\tconv_kernel ndim:\",conv_kernel.ndim,\"\\n\")\n",
    "print(\"length of conv_kernel:\",len(conv_kernel),\"\\n\")\n",
    "\n",
    "conv_kernel_reshape=conv_kernel.reshape(2,3,3) # 2 for 2 filter. change it according to your filter number\n",
    "print(\"conv_kernel_reshape:\\n\",conv_kernel_reshape,\"\\n\")\n",
    "print(\"conv_kernel_reshape shape:\",conv_kernel_reshape.shape,\"\\tconv_kernel_reshape ndim:\",conv_kernel_reshape.ndim,\"\\n\")\n",
    "print(\"length of conv_kernel_reshape:\",len(conv_kernel_reshape[0]),\"\\n\")\n",
    "\n",
    "convolution_kernel_filter=[]\n",
    "convolution_kernel_filter=np.zeros((2,3,3)) # 2 for 2 filter. change it according to your filter number\n",
    "convolution_kernel_filter[:,:,:]=np.array(conv_kernel_reshape)\n",
    "print(\"convolution_kernel_filter: \\n\",convolution_kernel_filter,\"\\n\")\n",
    "print(\"convolution_kernel_filter shape:\",convolution_kernel_filter.shape,\"\\tconvolution_kernel_filter ndim:\",convolution_kernel_filter.ndim,\"\\n\")\n",
    "print(\"length of convolution_kernel_filter:\",len(convolution_kernel_filter),\"\\n\")"
   ]
  },
  {
   "cell_type": "markdown",
   "metadata": {},
   "source": [
    "## Here I am reshapingbmy test image for thsi approach."
   ]
  },
  {
   "cell_type": "code",
   "execution_count": 27,
   "metadata": {},
   "outputs": [
    {
     "name": "stdout",
     "output_type": "stream",
     "text": [
      "X_test_conv shape:  (48, 48) \n",
      "\n",
      "length of X_test_conv:  2 \n",
      "\n",
      "X_test_conv size:  2304 \n",
      "\n",
      "X_test_conv ndim:  [[1. 1. 1. ... 1. 1. 1.]\n",
      " [1. 1. 1. ... 1. 1. 1.]\n",
      " [1. 1. 1. ... 1. 1. 1.]\n",
      " ...\n",
      " [1. 1. 1. ... 1. 1. 1.]\n",
      " [1. 1. 1. ... 1. 1. 1.]\n",
      " [1. 1. 1. ... 1. 1. 1.]] \n",
      "\n"
     ]
    },
    {
     "data": {
      "text/plain": [
       "<matplotlib.image.AxesImage at 0x7fe9ef8d4da0>"
      ]
     },
     "execution_count": 27,
     "metadata": {},
     "output_type": "execute_result"
    },
    {
     "data": {
      "image/png": "[encoded data removed]",
      "text/plain": [
       "<Figure size 432x288 with 1 Axes>"
      ]
     },
     "metadata": {
      "needs_background": "light"
     },
     "output_type": "display_data"
    }
   ],
   "source": [
    "X_test_conv = X_test.reshape(IMG_SIZE,IMG_SIZE)\n",
    "print(\"X_test_conv shape: \",X_test_conv.shape,\"\\n\")\n",
    "print(\"length of X_test_conv: \",len(X_test_conv.shape),\"\\n\")\n",
    "print(\"X_test_conv size: \",X_test_conv.size,\"\\n\")\n",
    "print(\"X_test_conv ndim: \",X_test_conv,\"\\n\")\n",
    "plt.imshow(X_test_conv)"
   ]
  },
  {
   "cell_type": "markdown",
   "metadata": {},
   "source": [
    "## In following cell I have added Padding to the input. For my further work to keep simplicity I have not used this but it will work."
   ]
  },
  {
   "cell_type": "code",
   "execution_count": null,
   "metadata": {},
   "outputs": [],
   "source": [
    "# X_test_conv_padded=np.pad(X_test_conv, ((1,1),(1,1)), 'constant')\n",
    "# print(\"X_test_conv_padded size: \",X_test_conv_padded.size,\"\\n\")\n",
    "# plt.imshow(X_test_conv_padded)"
   ]
  },
  {
   "cell_type": "markdown",
   "metadata": {},
   "source": [
    "## Function for convolution with the convolution filter and then use the created feature map"
   ]
  },
  {
   "cell_type": "code",
   "execution_count": 28,
   "metadata": {},
   "outputs": [
    {
     "name": "stdout",
     "output_type": "stream",
     "text": [
      "[0.01443624 1.3674825 ]\n",
      "Filter  1\n",
      "len:  2\n",
      "CONV function has worked_lala\n",
      "filter_size:  3\n",
      "img shape:  (48, 48)\n",
      "result:  [[0. 0. 0. ... 0. 0. 0.]\n",
      " [0. 0. 0. ... 0. 0. 0.]\n",
      " [0. 0. 0. ... 0. 0. 0.]\n",
      " ...\n",
      " [0. 0. 0. ... 0. 0. 0.]\n",
      " [0. 0. 0. ... 0. 0. 0.]\n",
      " [0. 0. 0. ... 0. 0. 0.]]\n",
      "img:  [[1. 1. 1. ... 1. 1. 1.]\n",
      " [1. 1. 1. ... 1. 1. 1.]\n",
      " [1. 1. 1. ... 1. 1. 1.]\n",
      " ...\n",
      " [1. 1. 1. ... 1. 1. 1.]\n",
      " [1. 1. 1. ... 1. 1. 1.]\n",
      " [1. 1. 1. ... 1. 1. 1.]]\n",
      "curr_result:  [[-1.25512636  1.36121762  2.7264719 ]\n",
      " [-0.81150454  1.0559597   2.42886043]\n",
      " [-2.27602124 -0.57018733 -0.53823084]]\n"
     ]
    },
    {
     "ename": "ValueError",
     "evalue": "operands could not be broadcast together with shapes (3,3) (2,) ",
     "output_type": "error",
     "traceback": [
      "\u001b[0;31m---------------------------------------------------------------------------\u001b[0m",
      "\u001b[0;31mValueError\u001b[0m                                Traceback (most recent call last)",
      "\u001b[0;32m<ipython-input-28-3bdb64cadafe>\u001b[0m in \u001b[0;36m<module>\u001b[0;34m\u001b[0m\n\u001b[1;32m     97\u001b[0m \u001b[0;31m# X_test = X_test.reshape(1,IMG_SIZE,IMG_SIZE)\u001b[0m\u001b[0;34m\u001b[0m\u001b[0;34m\u001b[0m\u001b[0;34m\u001b[0m\u001b[0m\n\u001b[1;32m     98\u001b[0m \u001b[0;34m\u001b[0m\u001b[0m\n\u001b[0;32m---> 99\u001b[0;31m \u001b[0mfeature\u001b[0m\u001b[0;34m=\u001b[0m\u001b[0mconv\u001b[0m\u001b[0;34m(\u001b[0m\u001b[0mimg\u001b[0m\u001b[0;34m=\u001b[0m\u001b[0mX_test_conv\u001b[0m\u001b[0;34m,\u001b[0m\u001b[0mconv_filter\u001b[0m\u001b[0;34m=\u001b[0m\u001b[0mconvolution_kernel_filter\u001b[0m\u001b[0;34m)\u001b[0m\u001b[0;34m\u001b[0m\u001b[0;34m\u001b[0m\u001b[0m\n\u001b[0m\u001b[1;32m    100\u001b[0m \u001b[0msoft_max\u001b[0m\u001b[0;34m=\u001b[0m\u001b[0msoftmax_fn\u001b[0m\u001b[0;34m(\u001b[0m\u001b[0mfeature\u001b[0m\u001b[0;34m)\u001b[0m\u001b[0;34m\u001b[0m\u001b[0;34m\u001b[0m\u001b[0m\n\u001b[1;32m    101\u001b[0m \u001b[0mrelu_out\u001b[0m\u001b[0;34m=\u001b[0m\u001b[0mrelu\u001b[0m\u001b[0;34m(\u001b[0m\u001b[0mfeature\u001b[0m\u001b[0;34m)\u001b[0m\u001b[0;34m\u001b[0m\u001b[0;34m\u001b[0m\u001b[0m\n",
      "\u001b[0;32m<ipython-input-28-3bdb64cadafe>\u001b[0m in \u001b[0;36mconv\u001b[0;34m(img, conv_filter)\u001b[0m\n\u001b[1;32m     76\u001b[0m         \u001b[0;32melse\u001b[0m\u001b[0;34m:\u001b[0m \u001b[0;31m# There is just a single channel in the filter.\u001b[0m\u001b[0;34m\u001b[0m\u001b[0;34m\u001b[0m\u001b[0m\n\u001b[1;32m     77\u001b[0m             \u001b[0mprint\u001b[0m\u001b[0;34m(\u001b[0m\u001b[0;34m\"CONV function has worked_lala\"\u001b[0m\u001b[0;34m)\u001b[0m\u001b[0;34m\u001b[0m\u001b[0;34m\u001b[0m\u001b[0m\n\u001b[0;32m---> 78\u001b[0;31m             \u001b[0mconv_map\u001b[0m \u001b[0;34m=\u001b[0m \u001b[0mconv_\u001b[0m\u001b[0;34m(\u001b[0m\u001b[0mimg\u001b[0m\u001b[0;34m,\u001b[0m \u001b[0mcurr_filter\u001b[0m\u001b[0;34m)\u001b[0m\u001b[0;34m\u001b[0m\u001b[0;34m\u001b[0m\u001b[0m\n\u001b[0m\u001b[1;32m     79\u001b[0m         \u001b[0mfeature_maps\u001b[0m\u001b[0;34m[\u001b[0m\u001b[0;34m:\u001b[0m\u001b[0;34m,\u001b[0m \u001b[0;34m:\u001b[0m\u001b[0;34m,\u001b[0m \u001b[0mfilter_num\u001b[0m\u001b[0;34m]\u001b[0m \u001b[0;34m=\u001b[0m \u001b[0mconv_map\u001b[0m \u001b[0;31m# Holding feature map with the current filter.\u001b[0m\u001b[0;34m\u001b[0m\u001b[0;34m\u001b[0m\u001b[0m\n\u001b[1;32m     80\u001b[0m     \u001b[0;32mreturn\u001b[0m \u001b[0mfeature_maps\u001b[0m \u001b[0;31m# Returning all feature maps.\u001b[0m\u001b[0;34m\u001b[0m\u001b[0;34m\u001b[0m\u001b[0m\n",
      "\u001b[0;32m<ipython-input-28-3bdb64cadafe>\u001b[0m in \u001b[0;36mconv_\u001b[0;34m(img, conv_filter)\u001b[0m\n\u001b[1;32m     31\u001b[0m             \u001b[0mcurr_result\u001b[0m \u001b[0;34m=\u001b[0m \u001b[0mcurr_region\u001b[0m \u001b[0;34m*\u001b[0m \u001b[0mconv_filter\u001b[0m\u001b[0;34m\u001b[0m\u001b[0;34m\u001b[0m\u001b[0m\n\u001b[1;32m     32\u001b[0m             \u001b[0mprint\u001b[0m\u001b[0;34m(\u001b[0m\u001b[0;34m\"curr_result: \"\u001b[0m\u001b[0;34m,\u001b[0m\u001b[0mcurr_result\u001b[0m\u001b[0;34m)\u001b[0m\u001b[0;34m\u001b[0m\u001b[0;34m\u001b[0m\u001b[0m\n\u001b[0;32m---> 33\u001b[0;31m             \u001b[0mcurr_result\u001b[0m\u001b[0;34m=\u001b[0m \u001b[0mcurr_result\u001b[0m\u001b[0;34m+\u001b[0m\u001b[0mconv_bias\u001b[0m\u001b[0;34m\u001b[0m\u001b[0;34m\u001b[0m\u001b[0m\n\u001b[0m\u001b[1;32m     34\u001b[0m \u001b[0;31m#             print(conv_bias)\u001b[0m\u001b[0;34m\u001b[0m\u001b[0;34m\u001b[0m\u001b[0;34m\u001b[0m\u001b[0m\n\u001b[1;32m     35\u001b[0m \u001b[0;31m#             print(curr_result)\u001b[0m\u001b[0;34m\u001b[0m\u001b[0;34m\u001b[0m\u001b[0;34m\u001b[0m\u001b[0m\n",
      "\u001b[0;31mValueError\u001b[0m: operands could not be broadcast together with shapes (3,3) (2,) "
     ]
    }
   ],
   "source": [
    "import numpy\n",
    "import sys\n",
    "\n",
    "\n",
    "conv_bias=conv_bias\n",
    "print(conv_bias)\n",
    "\n",
    "def conv_(img, conv_filter):\n",
    "    filter_size = conv_filter.shape[1]\n",
    "    print(\"filter_size: \",filter_size)\n",
    "    print(\"img shape: \",img.shape)\n",
    "    result = numpy.zeros((img.shape))\n",
    "    print(\"result: \",result)\n",
    "    #Looping through the image to apply the convolution operation.\n",
    "    for r in numpy.uint16(numpy.arange(filter_size/2.0, \n",
    "                          img.shape[0]-filter_size/2.0+1)):\n",
    "        \n",
    "        for c in numpy.uint16(numpy.arange(filter_size/2.0, \n",
    "                                           img.shape[1]-filter_size/2.0+1)):\n",
    "            \n",
    "            \"\"\"\n",
    "            Getting the current region to get multiplied with the filter.\n",
    "            How to loop through the image and get the region based on \n",
    "            the image and filer sizes is the most tricky part of convolution.\n",
    "            \"\"\"\n",
    "            curr_region = img[r-numpy.uint16(numpy.floor(filter_size/2.0)):r+numpy.uint16(numpy.ceil(filter_size/2.0)), \n",
    "                              c-numpy.uint16(numpy.floor(filter_size/2.0)):c+numpy.uint16(numpy.ceil(filter_size/2.0))]\n",
    "        \n",
    "            #Element-wise multipliplication between the current region and the filter.\n",
    "            print(\"img: \",img)\n",
    "            curr_result = curr_region * conv_filter\n",
    "            print(\"curr_result: \",curr_result)\n",
    "            curr_result= curr_result+conv_bias\n",
    "#             print(conv_bias)\n",
    "#             print(curr_result)\n",
    "            conv_sum = numpy.sum(curr_result) #Summing the result of multiplication.\n",
    "            result[r, c] = conv_sum #Saving the summation in the convolution layer feature map.\n",
    "    #print(curr_region)\n",
    "    #Clipping the outliers of the result matrix.\n",
    "    final_result = result[numpy.uint16(filter_size/2.0):result.shape[0]-numpy.uint16(filter_size/2.0), \n",
    "                          numpy.uint16(filter_size/2.0):result.shape[1]-numpy.uint16(filter_size/2.0)]\n",
    "    return final_result\n",
    "def conv(img, conv_filter):\n",
    "    if len(img.shape) > 2 or len(conv_filter.shape) > 3: # Check if number of image channels matches the filter depth.\n",
    "        if img.shape[-1] != conv_filter.shape[-1]:\n",
    "            print(\"Error: Number of channels in both image and filter must match.\")\n",
    "            sys.exit()\n",
    "    if conv_filter.shape[1] != conv_filter.shape[2]: # Check if filter dimensions are equal.\n",
    "        print('Error: Filter must be a square matrix. I.e. number of rows and columns must match.')\n",
    "        sys.exit()\n",
    "    if conv_filter.shape[1]%2==0: # Check if filter diemnsions are odd.\n",
    "        print('Error: Filter must have an odd size. I.e. number of rows and columns must be odd.')\n",
    "        sys.exit()\n",
    "\n",
    "    # An empty feature map to hold the output of convolving the filter(s) with the image.\n",
    "    feature_maps = numpy.zeros((img.shape[0]-conv_filter.shape[1]+1, \n",
    "                                img.shape[1]-conv_filter.shape[1]+1, \n",
    "                                conv_filter.shape[0]))\n",
    "\n",
    "    # Convolving the image by the filter(s).\n",
    "    for filter_num in range(conv_filter.shape[0]):\n",
    "        print(\"Filter \", filter_num + 1)\n",
    "        curr_filter = conv_filter[filter_num, :] # getting a filter from the bank.\n",
    "        \"\"\" \n",
    "        Checking if there are mutliple channels for the single filter.\n",
    "        If so, then each channel will convolve the image.\n",
    "        The result of all convolutions are summed to return a single feature map.\n",
    "        \"\"\"\n",
    "        print(\"len: \",len(curr_filter.shape))\n",
    "        if len(curr_filter.shape) > 2:\n",
    "            print(\"CONV function has worked\")\n",
    "            conv_map = conv_(img[:, :, 0], curr_filter[:, :, 0]) # Array holding the sum of all feature maps.\n",
    "            for ch_num in range(1, curr_filter.shape[-1]): # Convolving each channel with the image and summing the results.\n",
    "                conv_map = conv_map + conv_(img[:, :, ch_num], \n",
    "                                  curr_filter[:, :, ch_num])\n",
    "        else: # There is just a single channel in the filter.\n",
    "            print(\"CONV function has worked_lala\")\n",
    "            conv_map = conv_(img, curr_filter)\n",
    "        feature_maps[:, :, filter_num] = conv_map # Holding feature map with the current filter.\n",
    "    return feature_maps # Returning all feature maps.\n",
    "\n",
    "\n",
    "def relu(feature_map):\n",
    "    #Preparing the output of the ReLU activation function.\n",
    "    relu_out = numpy.zeros(feature_map.shape)\n",
    "    for map_num in range(feature_map.shape[-1]):\n",
    "        for r in numpy.arange(0,feature_map.shape[0]):\n",
    "            for c in numpy.arange(0, feature_map.shape[1]):\n",
    "                relu_out[r, c, map_num] = numpy.max([feature_map[r, c, map_num], 0])\n",
    "    return relu_out\n",
    "\n",
    "def softmax_fn(input_array):\n",
    "    e_x=np.exp(input_array-np.max(input_array))\n",
    "    return e_x/e_x.sum(axis=len(e_x.shape)-1)\n",
    "\n",
    "\n",
    "# X_test = X_test.reshape(1,IMG_SIZE,IMG_SIZE)\n",
    "\n",
    "feature=conv(img=X_test_conv,conv_filter=convolution_kernel_filter)\n",
    "soft_max=softmax_fn(feature)\n",
    "relu_out=relu(feature)\n",
    "# # print(img.shape)\n",
    "# print(feature[:,:,0])\n",
    "# print(\"\\n\\n\",feature[:,:,1])"
   ]
  },
  {
   "cell_type": "markdown",
   "metadata": {},
   "source": [
    "## following cell is showing the output of 'conv' function."
   ]
  },
  {
   "cell_type": "code",
   "execution_count": 30,
   "metadata": {},
   "outputs": [
    {
     "name": "stdout",
     "output_type": "stream",
     "text": [
      "(46, 46, 2)\n",
      "transpose_feature_map shape:  (2, 46, 46)\n",
      "transpose_feature_map: \n",
      " [[[12.92143934 12.92143934 12.92143934 ... 12.92143934 12.92143934\n",
      "   12.92143934]\n",
      "  [12.92143934 12.92143934 12.92143934 ... 12.92143934 12.92143934\n",
      "   12.92143934]\n",
      "  [12.92143934 12.92143934 12.92143934 ... 12.92143934 12.92143934\n",
      "   12.92143934]\n",
      "  ...\n",
      "  [12.92143934 12.92143934 12.92143934 ... 12.92143934 12.92143934\n",
      "   12.92143934]\n",
      "  [12.92143934 12.92143934 12.92143934 ... 12.92143934 12.92143934\n",
      "   12.92143934]\n",
      "  [12.92143934 12.92143934 12.92143934 ... 12.92143934 12.92143934\n",
      "   12.92143934]]\n",
      "\n",
      " [[ 5.16180015  5.16180015  5.16180015 ...  5.16180015  5.16180015\n",
      "    5.16180015]\n",
      "  [ 5.16180015  5.16180015  5.16180015 ...  5.16180015  5.16180015\n",
      "    5.16180015]\n",
      "  [ 5.16180015  5.16180015  5.16180015 ...  5.16180015  5.16180015\n",
      "    5.16180015]\n",
      "  ...\n",
      "  [ 5.16180015  5.16180015  5.16180015 ...  5.16180015  5.16180015\n",
      "    5.16180015]\n",
      "  [ 5.16180015  5.16180015  5.16180015 ...  5.16180015  5.16180015\n",
      "    5.16180015]\n",
      "  [ 5.16180015  5.16180015  5.16180015 ...  5.16180015  5.16180015\n",
      "    5.16180015]]]\n"
     ]
    },
    {
     "data": {
      "image/png": "[encoded data removed]",
      "text/plain": [
       "<Figure size 432x288 with 1 Axes>"
      ]
     },
     "metadata": {
      "needs_background": "light"
     },
     "output_type": "display_data"
    }
   ],
   "source": [
    "print(feature.shape)\n",
    "\n",
    "# x_feature_map=np.flipud(feature[0])\n",
    "transpose_feature_map=feature.transpose()\n",
    "print(\"transpose_feature_map shape: \",transpose_feature_map.shape)\n",
    "plt.imshow(transpose_feature_map[0])\n",
    "print(\"transpose_feature_map: \\n\",transpose_feature_map)"
   ]
  },
  {
   "cell_type": "markdown",
   "metadata": {},
   "source": [
    "## following cell works with relu. if you want to apply relu on feature map then execute it. for this you have to also change in the called model in the training phase and train again."
   ]
  },
  {
   "cell_type": "code",
   "execution_count": 31,
   "metadata": {},
   "outputs": [
    {
     "name": "stdout",
     "output_type": "stream",
     "text": [
      "relu_out shape:  (46, 46, 2)\n",
      "relu_out_transpose shape:  (2, 46, 46)\n",
      "relu_out_transpose:\n",
      " [[[12.92143934 12.92143934 12.92143934 ... 12.92143934 12.92143934\n",
      "   12.92143934]\n",
      "  [12.92143934 12.92143934 12.92143934 ... 12.92143934 12.92143934\n",
      "   12.92143934]\n",
      "  [12.92143934 12.92143934 12.92143934 ... 12.92143934 12.92143934\n",
      "   12.92143934]\n",
      "  ...\n",
      "  [12.92143934 12.92143934 12.92143934 ... 12.92143934 12.92143934\n",
      "   12.92143934]\n",
      "  [12.92143934 12.92143934 12.92143934 ... 12.92143934 12.92143934\n",
      "   12.92143934]\n",
      "  [12.92143934 12.92143934 12.92143934 ... 12.92143934 12.92143934\n",
      "   12.92143934]]\n",
      "\n",
      " [[ 5.16180015  5.16180015  5.16180015 ...  5.16180015  5.16180015\n",
      "    5.16180015]\n",
      "  [ 5.16180015  5.16180015  5.16180015 ...  5.16180015  5.16180015\n",
      "    5.16180015]\n",
      "  [ 5.16180015  5.16180015  5.16180015 ...  5.16180015  5.16180015\n",
      "    5.16180015]\n",
      "  ...\n",
      "  [ 5.16180015  5.16180015  5.16180015 ...  5.16180015  5.16180015\n",
      "    5.16180015]\n",
      "  [ 5.16180015  5.16180015  5.16180015 ...  5.16180015  5.16180015\n",
      "    5.16180015]\n",
      "  [ 5.16180015  5.16180015  5.16180015 ...  5.16180015  5.16180015\n",
      "    5.16180015]]]\n"
     ]
    },
    {
     "data": {
      "image/png": "[encoded data removed]",
      "text/plain": [
       "<Figure size 432x288 with 1 Axes>"
      ]
     },
     "metadata": {
      "needs_background": "light"
     },
     "output_type": "display_data"
    }
   ],
   "source": [
    "print(\"relu_out shape: \",relu_out.shape)\n",
    "relu_out_transpose=relu_out.transpose()\n",
    "print(\"relu_out_transpose shape: \",relu_out_transpose.shape)\n",
    "plt.imshow(relu_out_transpose[0])\n",
    "print(\"relu_out_transpose:\\n\",relu_out_transpose)"
   ]
  },
  {
   "cell_type": "markdown",
   "metadata": {},
   "source": [
    "## In the following cell I have done matrix_multiplication between relu output and dense_kernel. Finally added dense_bias value."
   ]
  },
  {
   "cell_type": "code",
   "execution_count": 32,
   "metadata": {},
   "outputs": [
    {
     "name": "stdout",
     "output_type": "stream",
     "text": [
      "flatten_relu_out_transpose shape:  (1, 4232)\n",
      "dense_kernel shape:  (4232, 9) \n",
      "\n",
      "matmul_soft_dense_kernel shape (1, 9) \n",
      "\n",
      "matmul_soft_dense_kernel:  [[-185.0576935   -25.80008745   29.31363173   99.0706058    47.40671623\n",
      "    15.71534522  -20.6711238   -17.72083701  -15.07523071]] \n",
      "\n",
      "dense_bias_array:  [[-0.01253249  0.19295532  0.06694246  0.18706687 -0.24281958  0.13072969\n",
      "  -0.02468821 -0.22385639 -0.07379571]] \n",
      "\n",
      "value add_matmul_flatt_rel_dense_kernel_and_dense2_array:\n",
      " [[-185.07022599  -25.60713214   29.38057419   99.25767267   47.16389665\n",
      "    15.84607491  -20.695812    -17.9446934   -15.14902641]]\n"
     ]
    }
   ],
   "source": [
    "flatten_relu_out_transpose=relu_out_transpose.reshape(1,2*46*46)  #if you don't do padd on input image please make it 46*46. how 46 came? \n",
    "                                                                                    #the formula of output size.\n",
    "print(\"flatten_relu_out_transpose shape: \",flatten_relu_out_transpose.shape)\n",
    "\n",
    "print(\"dense_kernel shape: \",dense_kernel.shape,\"\\n\")\n",
    "\n",
    "matmul_flatt_rel_dense_kernel=np.matmul(flatten_relu_out_transpose,dense_kernel)\n",
    "print(\"matmul_soft_dense_kernel shape\",matmul_flatt_rel_dense_kernel.shape,\"\\n\")\n",
    "print(\"matmul_soft_dense_kernel: \",matmul_flatt_rel_dense_kernel,\"\\n\")\n",
    "\n",
    "dense_bias_array=np.array(dense_bias)\n",
    "dense_bias_array=dense_bias_array.reshape(1,9)\n",
    "print(\"dense_bias_array: \",dense_bias_array,\"\\n\")\n",
    "\n",
    "add_matmul_flatt_rel_dense_kernel_and_dense_bias_array=matmul_flatt_rel_dense_kernel+dense_bias_array\n",
    "print(\"value add_matmul_flatt_rel_dense_kernel_and_dense2_array:\\n\",add_matmul_flatt_rel_dense_kernel_and_dense_bias_array)"
   ]
  },
  {
   "cell_type": "markdown",
   "metadata": {},
   "source": [
    "## Here, I have applied softmax to the output and then calculated the class"
   ]
  },
  {
   "cell_type": "code",
   "execution_count": 33,
   "metadata": {},
   "outputs": [
    {
     "name": "stdout",
     "output_type": "stream",
     "text": [
      "output of FC layer:  [[3.29581298e-124 5.91431279e-055 4.49533146e-031 1.00000000e+000\n",
      "  2.37662430e-023 5.95392508e-037 8.03273652e-053 1.25793775e-051\n",
      "  2.05969017e-050]] \n",
      "\n",
      "3.295812978283471e-124\n",
      "5.9143127862059375e-55\n",
      "4.495331455858062e-31\n",
      "1.0\n",
      "class: 3\n"
     ]
    }
   ],
   "source": [
    "def softmax_fn(input_array):\n",
    "    e_x=np.exp(input_array-np.max(input_array))\n",
    "    return e_x/e_x.sum(axis=len(e_x.shape)-1)\n",
    "\n",
    "op= softmax_fn(add_matmul_flatt_rel_dense_kernel_and_dense_bias_array)\n",
    "print(\"output of FC layer: \",op,\"\\n\")\n",
    "########################\n",
    "# Folowing code for finding class##\n",
    "########################\n",
    "m=0\n",
    "k=0\n",
    "# op=[[0.17095664, 0.24349895, 0.172376,   0.19243606, 0.62073235]]\n",
    "# op=np.array(op)\n",
    "# print(op.shape)\n",
    "# print(type(op))\n",
    "\n",
    "for h in op:\n",
    "    \n",
    "    for index,j in enumerate(h):\n",
    "    \n",
    "        o=j\n",
    "        #print(o)\n",
    "        if o>m:\n",
    "            m=o\n",
    "            print(m)\n",
    "            k=index\n",
    "        else:\n",
    "            pass\n",
    "print('class:',k)\n",
    "        "
   ]
  },
  {
   "cell_type": "markdown",
   "metadata": {},
   "source": [
    "# Use it for multi filter"
   ]
  },
  {
   "cell_type": "code",
   "execution_count": 29,
   "metadata": {},
   "outputs": [
    {
     "name": "stdout",
     "output_type": "stream",
     "text": [
      "Filter  1\n",
      "curr_fiter_shape:  (3, 3)\n",
      "go to conv_ function \n",
      "\n",
      "conv_ function start to work\n",
      "\n",
      "filter_size:  3\n",
      "img shape:  (48, 48)\n",
      "\n",
      "conv_ function finish\n",
      "\n",
      "[[12.92143934 12.92143934 12.92143934 ... 12.92143934 12.92143934\n",
      "  12.92143934]\n",
      " [12.92143934 12.92143934 12.92143934 ... 12.92143934 12.92143934\n",
      "  12.92143934]\n",
      " [12.92143934 12.92143934 12.92143934 ... 12.92143934 12.92143934\n",
      "  12.92143934]\n",
      " ...\n",
      " [12.92143934 12.92143934 12.92143934 ... 12.92143934 12.92143934\n",
      "  12.92143934]\n",
      " [12.92143934 12.92143934 12.92143934 ... 12.92143934 12.92143934\n",
      "  12.92143934]\n",
      " [12.92143934 12.92143934 12.92143934 ... 12.92143934 12.92143934\n",
      "  12.92143934]]\n",
      "Filter  2\n",
      "curr_fiter_shape:  (3, 3)\n",
      "go to conv_ function \n",
      "\n",
      "conv_ function start to work\n",
      "\n",
      "filter_size:  3\n",
      "img shape:  (48, 48)\n",
      "\n",
      "conv_ function finish\n",
      "\n",
      "[[5.16180015 5.16180015 5.16180015 ... 5.16180015 5.16180015 5.16180015]\n",
      " [5.16180015 5.16180015 5.16180015 ... 5.16180015 5.16180015 5.16180015]\n",
      " [5.16180015 5.16180015 5.16180015 ... 5.16180015 5.16180015 5.16180015]\n",
      " ...\n",
      " [5.16180015 5.16180015 5.16180015 ... 5.16180015 5.16180015 5.16180015]\n",
      " [5.16180015 5.16180015 5.16180015 ... 5.16180015 5.16180015 5.16180015]\n",
      " [5.16180015 5.16180015 5.16180015 ... 5.16180015 5.16180015 5.16180015]]\n"
     ]
    }
   ],
   "source": [
    "import numpy\n",
    "import sys\n",
    "# conv_bias=conv_bias\n",
    "# conv_bias_new=1.3\n",
    "# print(conv_bias_new)\n",
    "\n",
    "def conv_(img, conv_filter):\n",
    "    print(\"\\nconv_ function start to work\\n\")\n",
    "    filter_size = conv_filter.shape[1] #output is 3\n",
    "    print(\"filter_size: \",filter_size)\n",
    "    print(\"img shape: \",img.shape)\n",
    "    result = numpy.zeros((img.shape))\n",
    "#     result= result.reshape(1,result)\n",
    "#     print(\"result: \",result)\n",
    "    #Looping through the image to apply the convolution operation.\n",
    "#     for x,i in enumerate(conv_bias):\n",
    "        \n",
    "    for r in numpy.uint16(numpy.arange(filter_size/2.0,img.shape[0]-filter_size/2.0+1)):\n",
    "        \n",
    "        for c in numpy.uint16(numpy.arange(filter_size/2.0,img.shape[1]-filter_size/2.0+1)):\n",
    "            \n",
    "            curr_region = img[r-numpy.uint16(numpy.floor(filter_size/2.0)):r+numpy.uint16(numpy.ceil(filter_size/2.0)), c-numpy.uint16(numpy.floor(filter_size/2.0)):c+numpy.uint16(numpy.ceil(filter_size/2.0))]\n",
    "        \n",
    "            #Element-wise multipliplication between the current region and the filter.\n",
    "            \n",
    "            curr_result = curr_region * conv_filter\n",
    "#             print(\"curr_result: \",curr_result)\n",
    "            curr_result= curr_result+1.2\n",
    "#             print(\"conv_bias: \",conv_bias_new)\n",
    "#             print(\"new curr res: \",curr_result)\n",
    "            conv_sum = numpy.sum(curr_result) #Summing the result of multiplication.\n",
    "            result[r, c] = conv_sum#Saving the summation in the convolution layer feature map.\n",
    "#             print(\"conv_sum_shape: \",conv_sum.shape)\n",
    "    #print(curr_region)\n",
    "    #Clipping the outliers of the result matrix.\n",
    "    final_result = result[numpy.uint16(filter_size/2.0):result.shape[0]-numpy.uint16(filter_size/2.0),numpy.uint16(filter_size/2.0):result.shape[1]-numpy.uint16(filter_size/2.0)]\n",
    "    print(\"\\nconv_ function finish\\n\")\n",
    "    return final_result\n",
    "\n",
    "\n",
    "\n",
    "def conv(img, conv_filter):\n",
    "#     print(\"conv_filter:: \", conv_filter.shape[0])\n",
    "    \n",
    "    if len(img.shape) > 2 or len(conv_filter.shape) > 3: # Check if number of image channels matches the filter depth.\n",
    "        if img.shape[-1] != conv_filter.shape[-1]:\n",
    "            print(\"Error: Number of channels in both image and filter must match.\")\n",
    "            sys.exit()\n",
    "    if conv_filter.shape[1] != conv_filter.shape[2]: # Check if filter dimensions are equal.\n",
    "        print('Error: Filter must be a square matrix. I.e. number of rows and columns must match.')\n",
    "        sys.exit()\n",
    "    if conv_filter.shape[1]%2==0: # Check if filter diemnsions are odd.\n",
    "        print('Error: Filter must have an odd size. I.e. number of rows and columns must be odd.')\n",
    "        sys.exit()\n",
    "\n",
    "    # An empty feature map to hold the output of convolving the filter(s) with the image.\n",
    "    feature_maps = numpy.zeros((img.shape[0]-conv_filter.shape[1]+1, img.shape[1]-conv_filter.shape[1]+1, conv_filter.shape[0]))\n",
    "\n",
    "    # Convolving the image by the filter(s).\n",
    "    \n",
    "    for filter_num in range(conv_filter.shape[0]):\n",
    "#         print(\"filter num: \",filter_num)\n",
    "        print(\"Filter \", filter_num + 1)\n",
    "        curr_filter = conv_filter[filter_num, :] # getting a filter from the bank.\n",
    "#         print(curr_filter)\n",
    "        print(\"curr_fiter_shape: \",curr_filter.shape)\n",
    "#         print(\"length of curr_fiter_shape: \",len(curr_filter.shape))\n",
    "\n",
    "\n",
    "        if len(curr_filter.shape) > 2:\n",
    "            print(\"CONV function has worked\")\n",
    "            conv_map = conv_(img[:, :, 0], curr_filter[:, :, 0]) # Array holding the sum of all feature maps.\n",
    "            for ch_num in range(1, curr_filter.shape[-1]): # Convolving each channel with the image and summing the results.\n",
    "                conv_map = conv_map + conv_(img[:, :, ch_num], \n",
    "                                  curr_filter[:, :, ch_num])\n",
    "        else: # There is just a single channel in the filter.\n",
    "            print(\"go to conv_ function \")\n",
    "            conv_map = conv_(img, curr_filter)\n",
    "            print(conv_map)\n",
    "            \n",
    "        feature_maps[:, :, filter_num] = conv_map # Holding feature map with the current filter.\n",
    "#         print(\"feature_maps from conv_map: \",feature_maps)\n",
    "    return feature_maps # Returning all feature maps.\n",
    "\n",
    "\n",
    "def relu(feature_map):\n",
    "    #Preparing the output of the ReLU activation function.\n",
    "    relu_out = numpy.zeros(feature_map.shape)\n",
    "    for map_num in range(feature_map.shape[-1]):\n",
    "        for r in numpy.arange(0,feature_map.shape[0]):\n",
    "            for c in numpy.arange(0, feature_map.shape[1]):\n",
    "                relu_out[r, c, map_num] = numpy.max([feature_map[r, c, map_num], 0])\n",
    "    return relu_out\n",
    "\n",
    "def softmax_fn(input_array):\n",
    "    e_x=np.exp(input_array-np.max(input_array))\n",
    "    return e_x/e_x.sum(axis=len(e_x.shape)-1)\n",
    "\n",
    "\n",
    "# X_test = X_test.reshape(1,IMG_SIZE,IMG_SIZE)\n",
    "\n",
    "feature=conv(img=X_test_conv,conv_filter=convolution_kernel_filter)\n",
    "relu_out=relu(feature)\n",
    "# soft_max=softmax_fn(feature)"
   ]
  },
  {
   "cell_type": "code",
   "execution_count": null,
   "metadata": {},
   "outputs": [],
   "source": []
  }
 ],
 "metadata": {
  "kernelspec": {
   "display_name": "Python 3",
   "language": "python",
   "name": "python3"
  },
  "language_info": {
   "codemirror_mode": {
    "name": "ipython",
    "version": 3
   },
   "file_extension": ".py",
   "mimetype": "text/x-python",
   "name": "python",
   "nbconvert_exporter": "python",
   "pygments_lexer": "ipython3",
   "version": "3.6.7"
  }
 },
 "nbformat": 4,
 "nbformat_minor": 2
}
