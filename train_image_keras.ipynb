{
 "cells": [
  {
   "cell_type": "markdown",
   "metadata": {},
   "source": [
    "# Library import"
   ]
  },
  {
   "cell_type": "code",
   "execution_count": 1,
   "metadata": {},
   "outputs": [
    {
     "name": "stderr",
     "output_type": "stream",
     "text": [
      "Using TensorFlow backend.\n"
     ]
    }
   ],
   "source": [
    "import numpy as np\n",
    "from skimage import io, color, exposure, transform\n",
    "from skimage.color import rgb2gray\n",
    "#from sklearn.cross_validation import train_test_split\n",
    "from sklearn.model_selection import train_test_split  #it came from update scikit learn. https://stackoverflow.com/questions/40704484/importerror-no-module-named-model-selection\n",
    "import os\n",
    "import glob\n",
    "import h5py\n",
    "\n",
    "from keras.preprocessing.image import ImageDataGenerator\n",
    "from keras.models import Sequential, model_from_json\n",
    "from keras.layers.core import Dense, Dropout, Activation, Flatten\n",
    "from keras.layers.convolutional import Conv2D,Conv1D\n",
    "from keras.layers.pooling import MaxPooling2D\n",
    "\n",
    "from keras.layers.convolutional import Convolution2D, MaxPooling2D\n",
    "\n",
    "from keras.optimizers import SGD\n",
    "from keras.utils import np_utils\n",
    "from keras.callbacks import LearningRateScheduler, ModelCheckpoint\n",
    "from keras import backend as K\n",
    "K.set_image_data_format('channels_first')\n",
    "\n",
    "from matplotlib import pyplot as plt\n",
    "%matplotlib inline\n",
    "\n",
    "#import keras\n",
    "\n",
    "NUM_CLASSES = 9  #how many different type of class/type of image you are using. Like CAT,DOG, ELEPHANT etc\n",
    "IMG_SIZE = 8  # You can change it. Always keep same size for width and height. That means square size.\n",
    "number_filter = 1"
   ]
  },
  {
   "cell_type": "markdown",
   "metadata": {},
   "source": [
    "# Function for preprocessing image. Able for RGB & Gray Image"
   ]
  },
  {
   "cell_type": "code",
   "execution_count": 2,
   "metadata": {},
   "outputs": [],
   "source": [
    "#for gray scale\n",
    "def preprocess_img(img):\n",
    "    # Histogram normalization in y\n",
    "#     hsv = color.rgb2hsv(img)\n",
    "#     hsv[:,:,2] = exposure.equalize_hist(hsv[:,:,2])\n",
    "#     img = color.hsv2rgb(hsv)\n",
    "\n",
    "    # central scrop\n",
    "    min_side = min(img.shape[:-1])\n",
    "    centre = img.shape[0]//2, img.shape[1]//2\n",
    "    img = img[centre[0]-min_side//2:centre[0]+min_side//2,\n",
    "              centre[1]-min_side//2:centre[1]+min_side//2,\n",
    "              :]\n",
    "    img = rgb2gray(img)\n",
    "\n",
    "    # rescale to standard size\n",
    "    img = transform.resize(img, (IMG_SIZE, IMG_SIZE))\n",
    "\n",
    "    # roll color axis to axis 0\n",
    "    img = np.rollaxis(img,-1)\n",
    "\n",
    "    return img\n",
    "\n",
    "def get_class(img_path):\n",
    "    return int(img_path.split('/')[-2])"
   ]
  },
  {
   "cell_type": "markdown",
   "metadata": {},
   "source": [
    "# Store the image and label in array. Run this cell if you need to do training. For testing no need to run it"
   ]
  },
  {
   "cell_type": "code",
   "execution_count": 3,
   "metadata": {},
   "outputs": [
    {
     "name": "stderr",
     "output_type": "stream",
     "text": [
      "/home/atif/anaconda3/envs/venv/lib/python3.6/site-packages/skimage/transform/_warps.py:105: UserWarning: The default mode, 'constant', will be changed to 'reflect' in skimage 0.15.\n",
      "  warn(\"The default mode, 'constant', will be changed to 'reflect' in \"\n",
      "/home/atif/anaconda3/envs/venv/lib/python3.6/site-packages/skimage/transform/_warps.py:110: UserWarning: Anti-aliasing will be enabled by default in skimage 0.15 to avoid aliasing artifacts when down-sampling images.\n",
      "  warn(\"Anti-aliasing will be enabled by default in skimage 0.15 to \"\n"
     ]
    },
    {
     "name": "stdout",
     "output_type": "stream",
     "text": [
      "Processed 1000/11760\n",
      "Processed 2000/11760\n",
      "Processed 3000/11760\n",
      "Processed 4000/11760\n",
      "Processed 5000/11760\n",
      "Processed 6000/11760\n",
      "Processed 7000/11760\n",
      "Processed 8000/11760\n",
      "Processed 9000/11760\n",
      "Processed 10000/11760\n",
      "Processed 11000/11760\n"
     ]
    }
   ],
   "source": [
    "imgs = []\n",
    "labels = []\n",
    "root_dir = '/home/atif/training_by_several_learning_process/number_classify/rgb_2_gray/Image-classification/train_image/'\n",
    "#path='/home/atif/training_by_several_learning_process/flower_photos/00000/'\n",
    "\n",
    "#all_img_paths = glob.glob(path+ '5547758_eea9edfd54_n_000.jpg')\n",
    "\n",
    "all_img_paths = glob.glob(os.path.join(root_dir, '*/*.ppm')) #I have done the training with .ppm format image. If another type of image will come \n",
    "                                                                                    #them .ppm will be changed by that extension\n",
    "np.random.shuffle(all_img_paths)\n",
    "for img_path in all_img_paths:\n",
    "    try:\n",
    "        img = preprocess_img(io.imread(img_path))\n",
    "        label = get_class(img_path)\n",
    "        imgs.append(img)\n",
    "        labels.append(label)\n",
    "\n",
    "        if len(imgs)%1000 == 0: print(\"Processed {}/{}\".format(len(imgs), len(all_img_paths)))\n",
    "            #print(\"get it 2\")\n",
    "    except (IOError, OSError):\n",
    "        print('missed', img_path)\n",
    "        pass\n",
    "\n",
    "X = np.array(imgs, dtype='float32') #Keeping the image as an array\n",
    "Y = np.eye(NUM_CLASSES, dtype='uint8')[labels] #labels of the image"
   ]
  },
  {
   "cell_type": "code",
   "execution_count": 4,
   "metadata": {},
   "outputs": [
    {
     "name": "stdout",
     "output_type": "stream",
     "text": [
      "[[[0.76919025 0.32189628 0.2273481  ... 0.21794105 0.22829272 0.21064721]\n",
      "  [0.73161405 0.28086147 0.2506112  ... 0.21749552 0.210531   0.19964282]\n",
      "  [0.55422574 0.3046039  0.22301309 ... 0.19688024 0.25614518 0.20815867]\n",
      "  ...\n",
      "  [0.65089285 0.31733593 0.22728612 ... 0.4225565  0.25574708 0.20155765]\n",
      "  [0.6731649  0.28670642 0.29357553 ... 0.26864657 0.19970113 0.19213681]\n",
      "  [0.6461554  0.2894134  0.25351733 ... 0.20234036 0.1990896  0.17904441]]\n",
      "\n",
      " [[0.18091677 0.10739366 0.10090948 ... 0.10366765 0.09820471 0.10365102]\n",
      "  [0.2082383  0.09576117 0.09590362 ... 0.08534764 0.07293228 0.09577064]\n",
      "  [0.2732834  0.11383078 0.10841297 ... 0.14726917 0.11341047 0.14480047]\n",
      "  ...\n",
      "  [0.18817669 0.1305366  0.15284179 ... 0.19282715 0.15168363 0.10040881]\n",
      "  [0.23391613 0.06552649 0.11273812 ... 0.13958344 0.06043021 0.06878428]\n",
      "  [0.27418056 0.06868622 0.07594798 ... 0.08057083 0.06977361 0.06400824]]\n",
      "\n",
      " [[0.08161212 0.09100208 0.07255933 ... 0.5536272  0.0869306  0.07656503]\n",
      "  [0.08206671 0.08467628 0.11612743 ... 0.2476018  0.07894006 0.07618052]\n",
      "  [0.08392157 0.13695495 0.21961473 ... 0.20866853 0.14136249 0.07389881]\n",
      "  ...\n",
      "  [0.08499858 0.14318918 0.22583073 ... 0.2277501  0.15427245 0.06418451]\n",
      "  [0.08270309 0.08623943 0.13003503 ... 0.13034588 0.0772467  0.05863151]\n",
      "  [0.08750488 0.06945413 0.06839692 ... 0.07091472 0.0698617  0.06415118]]\n",
      "\n",
      " ...\n",
      "\n",
      " [[0.17817777 0.13845223 0.11062454 ... 0.11989076 0.14546213 0.15782319]\n",
      "  [0.12418873 0.09905838 0.3910141  ... 0.2683103  0.13401099 0.13503927]\n",
      "  [0.13157508 0.37605268 0.13235681 ... 0.2572342  0.25165814 0.12986544]\n",
      "  ...\n",
      "  [0.13560453 0.15829198 0.12977946 ... 0.13781641 0.13686728 0.36197013]\n",
      "  [0.15444015 0.18958013 0.16237155 ... 0.13604292 0.44746533 0.13554317]\n",
      "  [0.12306385 0.12439044 0.19105689 ... 0.44381365 0.11211921 0.49449375]]\n",
      "\n",
      " [[0.22505282 0.22655305 0.2561927  ... 0.2875153  0.2302844  0.2950118 ]\n",
      "  [0.15040639 0.39369246 0.20155014 ... 0.17370525 0.4136513  0.32152915]\n",
      "  [0.20084295 0.20657796 0.53016347 ... 0.523937   0.16902056 0.26204273]\n",
      "  ...\n",
      "  [0.5014279  0.20159109 0.50940275 ... 0.16145499 0.15444794 0.20059797]\n",
      "  [0.2783351  0.2351308  0.17406169 ... 0.16161771 0.3373964  0.2588043 ]\n",
      "  [0.32691208 0.28314862 0.3106998  ... 0.19045244 0.18725148 0.24103439]]\n",
      "\n",
      " [[0.11755592 0.11464449 0.1158027  ... 0.11553408 0.11565945 0.08497472]\n",
      "  [0.13493893 0.10904786 0.1351425  ... 0.16109957 0.10827592 0.08217987]\n",
      "  [0.12828812 0.11245769 0.07703719 ... 0.16105932 0.1364992  0.08401503]\n",
      "  ...\n",
      "  [0.08503394 0.10547446 0.09666727 ... 0.22105338 0.09257246 0.10703344]\n",
      "  [0.09607613 0.09457874 0.12273645 ... 0.11377028 0.09318692 0.09309306]\n",
      "  [0.10912072 0.11176699 0.12363961 ... 0.09605104 0.10354455 0.08629337]]]\n"
     ]
    }
   ],
   "source": [
    "print(X)"
   ]
  },
  {
   "cell_type": "code",
   "execution_count": 5,
   "metadata": {},
   "outputs": [
    {
     "name": "stdout",
     "output_type": "stream",
     "text": [
      "(11760, 8, 8)\n",
      "(11760, 1, 8, 8)\n",
      "4\n",
      "(1, 8, 8)\n"
     ]
    }
   ],
   "source": [
    "# X = np.array(imgs, dtype='float32')\n",
    "print(X.shape)\n",
    "#plt.imshow(X[0])\n",
    "# plt.imshow(X[0],cmap=\"gray\")\n",
    "# plt.imshow(X[0]) #if you use this command here you will see something coloured image. No problem, it is gray image. \n",
    "                        #To see full Black and white image uncomment the previous line.\n",
    "X = X.reshape(len(imgs),1,IMG_SIZE,IMG_SIZE) # write (IMG_SIZE,IMG_SIZE,1 if you want channel last; 1= grayscale;3=RGB)\n",
    "# plt.imshow(X[0],cmap=\"gray\")\n",
    "print(X.shape)\n",
    "print(X.ndim)\n",
    "print(X[0].shape)"
   ]
  },
  {
   "cell_type": "code",
   "execution_count": 6,
   "metadata": {},
   "outputs": [
    {
     "name": "stdout",
     "output_type": "stream",
     "text": [
      "(11760, 1, 8, 8)\n",
      "(11760, 9)\n"
     ]
    }
   ],
   "source": [
    "print(X.shape)\n",
    "print(Y.shape)"
   ]
  },
  {
   "cell_type": "markdown",
   "metadata": {},
   "source": [
    "# making a model. Run it for training and testing"
   ]
  },
  {
   "cell_type": "code",
   "execution_count": 7,
   "metadata": {},
   "outputs": [],
   "source": [
    "# This model is for understanding the inner calculation of CNN that's why I have started witha minimal layer as well as model.\n",
    "# Increase the filter number and layer if you want a good result\n",
    "#Conv2D(1, (3, 3) >> here 1 = number of filter. (3,3) = kernel height and width\n",
    "# you can just add padding just beside Conv2D. (model.add(Conv2D(1,(3,3)),padding='same',....))\n",
    "# I haven't added here for remove complexity in c++(I have tried to implement this whole model in testing phase in cpp)\n",
    "def cnn_model():\n",
    "#      padding='same'\n",
    "    model = Sequential()\n",
    "\n",
    "    model.add(Conv2D(number_filter, (3, 3),\n",
    "                     input_shape=(1,IMG_SIZE, IMG_SIZE),\n",
    "                     activation='relu'))\n",
    "    model.add(Flatten())\n",
    "#     model.add(Dense(512, activation='relu'))\n",
    "    model.add(Dense(NUM_CLASSES, activation='softmax'))\n",
    "    \n",
    "    return model\n",
    "\n",
    "model = cnn_model()\n",
    "\n",
    "lr = 0.01\n",
    "sgd = SGD(lr=lr, decay=1e-6, momentum=0.9, nesterov=True)\n",
    "model.compile(loss='categorical_crossentropy',\n",
    "          optimizer=sgd,\n",
    "          metrics=['accuracy'])"
   ]
  },
  {
   "cell_type": "code",
   "execution_count": 9,
   "metadata": {},
   "outputs": [
    {
     "name": "stdout",
     "output_type": "stream",
     "text": [
      "_________________________________________________________________\n",
      "Layer (type)                 Output Shape              Param #   \n",
      "=================================================================\n",
      "conv2d_1 (Conv2D)            (None, 1, 6, 6)           10        \n",
      "_________________________________________________________________\n",
      "flatten_1 (Flatten)          (None, 36)                0         \n",
      "_________________________________________________________________\n",
      "dense_1 (Dense)              (None, 9)                 333       \n",
      "=================================================================\n",
      "Total params: 343\n",
      "Trainable params: 343\n",
      "Non-trainable params: 0\n",
      "_________________________________________________________________\n"
     ]
    }
   ],
   "source": [
    "model.summary()"
   ]
  },
  {
   "cell_type": "markdown",
   "metadata": {},
   "source": [
    "# Training phase. Storing the model also for further use"
   ]
  },
  {
   "cell_type": "code",
   "execution_count": 10,
   "metadata": {},
   "outputs": [
    {
     "name": "stdout",
     "output_type": "stream",
     "text": [
      "Train on 9408 samples, validate on 2352 samples\n",
      "Epoch 1/100\n",
      "9408/9408 [==============================] - 1s 102us/step - loss: 1.9184 - acc: 0.2647 - val_loss: 1.7629 - val_acc: 0.3495\n",
      "Epoch 2/100\n",
      "9408/9408 [==============================] - 0s 37us/step - loss: 1.6676 - acc: 0.3567 - val_loss: 1.5504 - val_acc: 0.4141\n",
      "Epoch 3/100\n",
      "9408/9408 [==============================] - 0s 38us/step - loss: 1.5088 - acc: 0.3993 - val_loss: 1.4681 - val_acc: 0.4294\n",
      "Epoch 4/100\n",
      "9408/9408 [==============================] - 0s 46us/step - loss: 1.4285 - acc: 0.4305 - val_loss: 1.4198 - val_acc: 0.4422\n",
      "Epoch 5/100\n",
      "9408/9408 [==============================] - 0s 47us/step - loss: 1.3823 - acc: 0.4498 - val_loss: 1.3584 - val_acc: 0.4575\n",
      "Epoch 6/100\n",
      "9408/9408 [==============================] - 0s 42us/step - loss: 1.3561 - acc: 0.4641 - val_loss: 1.3361 - val_acc: 0.4817\n",
      "Epoch 7/100\n",
      "9408/9408 [==============================] - 0s 46us/step - loss: 1.3367 - acc: 0.4679 - val_loss: 1.3460 - val_acc: 0.4779\n",
      "Epoch 8/100\n",
      "9408/9408 [==============================] - 0s 38us/step - loss: 1.3245 - acc: 0.4759 - val_loss: 1.3180 - val_acc: 0.4945\n",
      "Epoch 9/100\n",
      "9408/9408 [==============================] - 1s 73us/step - loss: 1.3082 - acc: 0.4841 - val_loss: 1.2913 - val_acc: 0.4996\n",
      "Epoch 10/100\n",
      "9408/9408 [==============================] - 1s 70us/step - loss: 1.2966 - acc: 0.4803 - val_loss: 1.3019 - val_acc: 0.5038\n",
      "Epoch 11/100\n",
      "9408/9408 [==============================] - 1s 62us/step - loss: 1.2666 - acc: 0.4957 - val_loss: 1.2695 - val_acc: 0.5064\n",
      "Epoch 12/100\n",
      "9408/9408 [==============================] - 0s 53us/step - loss: 1.2601 - acc: 0.4994 - val_loss: 1.2737 - val_acc: 0.5119\n",
      "Epoch 13/100\n",
      "9408/9408 [==============================] - 1s 62us/step - loss: 1.2591 - acc: 0.4973 - val_loss: 1.2660 - val_acc: 0.5051\n",
      "Epoch 14/100\n",
      "9408/9408 [==============================] - 1s 61us/step - loss: 1.2571 - acc: 0.4999 - val_loss: 1.2694 - val_acc: 0.5140\n",
      "Epoch 15/100\n",
      "9408/9408 [==============================] - 1s 62us/step - loss: 1.2565 - acc: 0.4998 - val_loss: 1.2632 - val_acc: 0.5111\n",
      "Epoch 16/100\n",
      "9408/9408 [==============================] - 1s 79us/step - loss: 1.2540 - acc: 0.4997 - val_loss: 1.2668 - val_acc: 0.5115\n",
      "Epoch 17/100\n",
      "9408/9408 [==============================] - 1s 92us/step - loss: 1.2529 - acc: 0.5029 - val_loss: 1.2634 - val_acc: 0.5055\n",
      "Epoch 18/100\n",
      "9408/9408 [==============================] - 1s 100us/step - loss: 1.2520 - acc: 0.4996 - val_loss: 1.2606 - val_acc: 0.5051\n",
      "Epoch 19/100\n",
      "9408/9408 [==============================] - 1s 113us/step - loss: 1.2503 - acc: 0.5007 - val_loss: 1.2594 - val_acc: 0.5085\n",
      "Epoch 20/100\n",
      "9408/9408 [==============================] - 1s 79us/step - loss: 1.2494 - acc: 0.5026 - val_loss: 1.2569 - val_acc: 0.5128\n",
      "Epoch 21/100\n",
      "9408/9408 [==============================] - 1s 64us/step - loss: 1.2445 - acc: 0.5044 - val_loss: 1.2560 - val_acc: 0.5094\n",
      "Epoch 22/100\n",
      "9408/9408 [==============================] - 1s 82us/step - loss: 1.2439 - acc: 0.5033 - val_loss: 1.2562 - val_acc: 0.5085\n",
      "Epoch 23/100\n",
      "9408/9408 [==============================] - 1s 64us/step - loss: 1.2438 - acc: 0.5067 - val_loss: 1.2562 - val_acc: 0.5085\n",
      "Epoch 24/100\n",
      "9408/9408 [==============================] - 1s 55us/step - loss: 1.2437 - acc: 0.5061 - val_loss: 1.2560 - val_acc: 0.5094\n",
      "Epoch 25/100\n",
      "9408/9408 [==============================] - 1s 55us/step - loss: 1.2435 - acc: 0.5047 - val_loss: 1.2559 - val_acc: 0.5085\n",
      "Epoch 26/100\n",
      "9408/9408 [==============================] - 1s 55us/step - loss: 1.2433 - acc: 0.5054 - val_loss: 1.2562 - val_acc: 0.5123\n",
      "Epoch 27/100\n",
      "9408/9408 [==============================] - 1s 56us/step - loss: 1.2433 - acc: 0.5050 - val_loss: 1.2559 - val_acc: 0.5136\n",
      "Epoch 28/100\n",
      "9408/9408 [==============================] - 1s 59us/step - loss: 1.2431 - acc: 0.5053 - val_loss: 1.2556 - val_acc: 0.5085\n",
      "Epoch 29/100\n",
      "9408/9408 [==============================] - 1s 76us/step - loss: 1.2430 - acc: 0.5055 - val_loss: 1.2558 - val_acc: 0.5128\n",
      "Epoch 30/100\n",
      "9408/9408 [==============================] - 1s 75us/step - loss: 1.2430 - acc: 0.5049 - val_loss: 1.2555 - val_acc: 0.5115\n",
      "Epoch 31/100\n",
      "9408/9408 [==============================] - 1s 65us/step - loss: 1.2422 - acc: 0.5053 - val_loss: 1.2556 - val_acc: 0.5123\n",
      "Epoch 32/100\n",
      "9408/9408 [==============================] - 1s 60us/step - loss: 1.2422 - acc: 0.5052 - val_loss: 1.2556 - val_acc: 0.5128\n",
      "Epoch 33/100\n",
      "9408/9408 [==============================] - 1s 60us/step - loss: 1.2421 - acc: 0.5060 - val_loss: 1.2556 - val_acc: 0.5132\n",
      "Epoch 34/100\n",
      "9408/9408 [==============================] - 1s 61us/step - loss: 1.2421 - acc: 0.5058 - val_loss: 1.2555 - val_acc: 0.5119\n",
      "Epoch 35/100\n",
      "9408/9408 [==============================] - 1s 58us/step - loss: 1.2421 - acc: 0.5053 - val_loss: 1.2556 - val_acc: 0.5119\n",
      "Epoch 36/100\n",
      "9408/9408 [==============================] - 1s 75us/step - loss: 1.2421 - acc: 0.5058 - val_loss: 1.2555 - val_acc: 0.5119\n",
      "Epoch 37/100\n",
      "9408/9408 [==============================] - 1s 71us/step - loss: 1.2421 - acc: 0.5060 - val_loss: 1.2555 - val_acc: 0.5119\n",
      "Epoch 38/100\n",
      "9408/9408 [==============================] - 0s 52us/step - loss: 1.2421 - acc: 0.5056 - val_loss: 1.2555 - val_acc: 0.5123\n",
      "Epoch 39/100\n",
      "9408/9408 [==============================] - 1s 57us/step - loss: 1.2420 - acc: 0.5057 - val_loss: 1.2555 - val_acc: 0.5119\n",
      "Epoch 40/100\n",
      "9408/9408 [==============================] - 1s 90us/step - loss: 1.2420 - acc: 0.5053 - val_loss: 1.2555 - val_acc: 0.5119\n",
      "Epoch 41/100\n",
      "9408/9408 [==============================] - 1s 80us/step - loss: 1.2419 - acc: 0.5055 - val_loss: 1.2555 - val_acc: 0.5119\n",
      "Epoch 42/100\n",
      "9408/9408 [==============================] - 1s 71us/step - loss: 1.2419 - acc: 0.5055 - val_loss: 1.2555 - val_acc: 0.5119\n",
      "Epoch 43/100\n",
      "9408/9408 [==============================] - 1s 82us/step - loss: 1.2419 - acc: 0.5055 - val_loss: 1.2555 - val_acc: 0.5119\n",
      "Epoch 44/100\n",
      "9408/9408 [==============================] - 1s 68us/step - loss: 1.2419 - acc: 0.5055 - val_loss: 1.2555 - val_acc: 0.5119\n",
      "Epoch 45/100\n",
      "9408/9408 [==============================] - 1s 68us/step - loss: 1.2419 - acc: 0.5056 - val_loss: 1.2555 - val_acc: 0.5119\n",
      "Epoch 46/100\n",
      "9408/9408 [==============================] - 1s 62us/step - loss: 1.2419 - acc: 0.5057 - val_loss: 1.2555 - val_acc: 0.5119\n",
      "Epoch 47/100\n",
      "9408/9408 [==============================] - 1s 69us/step - loss: 1.2419 - acc: 0.5056 - val_loss: 1.2555 - val_acc: 0.5119\n",
      "Epoch 48/100\n",
      "9408/9408 [==============================] - 1s 58us/step - loss: 1.2419 - acc: 0.5056 - val_loss: 1.2555 - val_acc: 0.5119\n",
      "Epoch 49/100\n",
      "9408/9408 [==============================] - 1s 58us/step - loss: 1.2419 - acc: 0.5056 - val_loss: 1.2555 - val_acc: 0.5119\n",
      "Epoch 50/100\n",
      "9408/9408 [==============================] - 1s 60us/step - loss: 1.2419 - acc: 0.5057 - val_loss: 1.2555 - val_acc: 0.5119\n",
      "Epoch 51/100\n",
      "9408/9408 [==============================] - 1s 58us/step - loss: 1.2419 - acc: 0.5056 - val_loss: 1.2555 - val_acc: 0.5119\n",
      "Epoch 52/100\n",
      "9408/9408 [==============================] - 1s 57us/step - loss: 1.2419 - acc: 0.5056 - val_loss: 1.2555 - val_acc: 0.5119\n",
      "Epoch 53/100\n",
      "9408/9408 [==============================] - 1s 70us/step - loss: 1.2419 - acc: 0.5056 - val_loss: 1.2555 - val_acc: 0.5119\n",
      "Epoch 54/100\n",
      "9408/9408 [==============================] - 1s 56us/step - loss: 1.2419 - acc: 0.5056 - val_loss: 1.2555 - val_acc: 0.5119\n",
      "Epoch 55/100\n",
      "9408/9408 [==============================] - 1s 56us/step - loss: 1.2419 - acc: 0.5056 - val_loss: 1.2555 - val_acc: 0.5119\n",
      "Epoch 56/100\n",
      "9408/9408 [==============================] - 1s 61us/step - loss: 1.2419 - acc: 0.5056 - val_loss: 1.2555 - val_acc: 0.5119\n",
      "Epoch 57/100\n",
      "9408/9408 [==============================] - 1s 57us/step - loss: 1.2419 - acc: 0.5056 - val_loss: 1.2555 - val_acc: 0.5119\n",
      "Epoch 58/100\n",
      "9408/9408 [==============================] - 1s 60us/step - loss: 1.2419 - acc: 0.5056 - val_loss: 1.2555 - val_acc: 0.5119\n",
      "Epoch 59/100\n",
      "9408/9408 [==============================] - 1s 57us/step - loss: 1.2419 - acc: 0.5056 - val_loss: 1.2555 - val_acc: 0.5119\n",
      "Epoch 60/100\n"
     ]
    },
    {
     "name": "stdout",
     "output_type": "stream",
     "text": [
      "9408/9408 [==============================] - 1s 54us/step - loss: 1.2419 - acc: 0.5056 - val_loss: 1.2555 - val_acc: 0.5119\n",
      "Epoch 61/100\n",
      "9408/9408 [==============================] - 0s 47us/step - loss: 1.2419 - acc: 0.5056 - val_loss: 1.2555 - val_acc: 0.5119\n",
      "Epoch 62/100\n",
      "9408/9408 [==============================] - 1s 55us/step - loss: 1.2419 - acc: 0.5056 - val_loss: 1.2555 - val_acc: 0.5119\n",
      "Epoch 63/100\n",
      "9408/9408 [==============================] - 1s 53us/step - loss: 1.2419 - acc: 0.5056 - val_loss: 1.2555 - val_acc: 0.5119\n",
      "Epoch 64/100\n",
      "9408/9408 [==============================] - 1s 57us/step - loss: 1.2419 - acc: 0.5056 - val_loss: 1.2555 - val_acc: 0.5119\n",
      "Epoch 65/100\n",
      "9408/9408 [==============================] - 1s 58us/step - loss: 1.2419 - acc: 0.5056 - val_loss: 1.2555 - val_acc: 0.5119\n",
      "Epoch 66/100\n",
      "9408/9408 [==============================] - 0s 49us/step - loss: 1.2419 - acc: 0.5056 - val_loss: 1.2555 - val_acc: 0.5119\n",
      "Epoch 67/100\n",
      "9408/9408 [==============================] - 0s 48us/step - loss: 1.2419 - acc: 0.5056 - val_loss: 1.2555 - val_acc: 0.5119\n",
      "Epoch 68/100\n",
      "9408/9408 [==============================] - 1s 58us/step - loss: 1.2419 - acc: 0.5056 - val_loss: 1.2555 - val_acc: 0.5119\n",
      "Epoch 69/100\n",
      "9408/9408 [==============================] - 1s 58us/step - loss: 1.2419 - acc: 0.5056 - val_loss: 1.2555 - val_acc: 0.5119\n",
      "Epoch 70/100\n",
      "9408/9408 [==============================] - 1s 55us/step - loss: 1.2419 - acc: 0.5056 - val_loss: 1.2555 - val_acc: 0.5119\n",
      "Epoch 71/100\n",
      "9408/9408 [==============================] - 1s 63us/step - loss: 1.2419 - acc: 0.5056 - val_loss: 1.2555 - val_acc: 0.5119\n",
      "Epoch 72/100\n",
      "9408/9408 [==============================] - 0s 50us/step - loss: 1.2419 - acc: 0.5056 - val_loss: 1.2555 - val_acc: 0.5119\n",
      "Epoch 73/100\n",
      "9408/9408 [==============================] - 1s 57us/step - loss: 1.2419 - acc: 0.5056 - val_loss: 1.2555 - val_acc: 0.5119\n",
      "Epoch 74/100\n",
      "9408/9408 [==============================] - 1s 55us/step - loss: 1.2419 - acc: 0.5056 - val_loss: 1.2555 - val_acc: 0.5119\n",
      "Epoch 75/100\n",
      "9408/9408 [==============================] - 1s 57us/step - loss: 1.2419 - acc: 0.5056 - val_loss: 1.2555 - val_acc: 0.5119\n",
      "Epoch 76/100\n",
      "9408/9408 [==============================] - 0s 48us/step - loss: 1.2419 - acc: 0.5056 - val_loss: 1.2555 - val_acc: 0.5119\n",
      "Epoch 77/100\n",
      "9408/9408 [==============================] - 0s 51us/step - loss: 1.2419 - acc: 0.5056 - val_loss: 1.2555 - val_acc: 0.5119\n",
      "Epoch 78/100\n",
      "9408/9408 [==============================] - 1s 59us/step - loss: 1.2419 - acc: 0.5056 - val_loss: 1.2555 - val_acc: 0.5119\n",
      "Epoch 79/100\n",
      "9408/9408 [==============================] - 1s 58us/step - loss: 1.2419 - acc: 0.5056 - val_loss: 1.2555 - val_acc: 0.5119\n",
      "Epoch 80/100\n",
      "9408/9408 [==============================] - 0s 52us/step - loss: 1.2419 - acc: 0.5056 - val_loss: 1.2555 - val_acc: 0.5119\n",
      "Epoch 81/100\n",
      "9408/9408 [==============================] - 0s 48us/step - loss: 1.2419 - acc: 0.5056 - val_loss: 1.2555 - val_acc: 0.5119\n",
      "Epoch 82/100\n",
      "9408/9408 [==============================] - 0s 53us/step - loss: 1.2419 - acc: 0.5056 - val_loss: 1.2555 - val_acc: 0.5119\n",
      "Epoch 83/100\n",
      "9408/9408 [==============================] - 1s 58us/step - loss: 1.2419 - acc: 0.5056 - val_loss: 1.2555 - val_acc: 0.5119\n",
      "Epoch 84/100\n",
      "9408/9408 [==============================] - 1s 64us/step - loss: 1.2419 - acc: 0.5056 - val_loss: 1.2555 - val_acc: 0.5119\n",
      "Epoch 85/100\n",
      "9408/9408 [==============================] - 0s 50us/step - loss: 1.2419 - acc: 0.5056 - val_loss: 1.2555 - val_acc: 0.5119\n",
      "Epoch 86/100\n",
      "9408/9408 [==============================] - 0s 49us/step - loss: 1.2419 - acc: 0.5056 - val_loss: 1.2555 - val_acc: 0.5119\n",
      "Epoch 87/100\n",
      "9408/9408 [==============================] - 0s 48us/step - loss: 1.2419 - acc: 0.5056 - val_loss: 1.2555 - val_acc: 0.5119\n",
      "Epoch 88/100\n",
      "9408/9408 [==============================] - 0s 48us/step - loss: 1.2419 - acc: 0.5056 - val_loss: 1.2555 - val_acc: 0.5119\n",
      "Epoch 89/100\n",
      "9408/9408 [==============================] - 0s 48us/step - loss: 1.2419 - acc: 0.5056 - val_loss: 1.2555 - val_acc: 0.5119\n",
      "Epoch 90/100\n",
      "9408/9408 [==============================] - 0s 48us/step - loss: 1.2419 - acc: 0.5056 - val_loss: 1.2555 - val_acc: 0.5119\n",
      "Epoch 91/100\n",
      "9408/9408 [==============================] - 0s 52us/step - loss: 1.2419 - acc: 0.5056 - val_loss: 1.2555 - val_acc: 0.5119\n",
      "Epoch 92/100\n",
      "9408/9408 [==============================] - 0s 52us/step - loss: 1.2419 - acc: 0.5056 - val_loss: 1.2555 - val_acc: 0.5119\n",
      "Epoch 93/100\n",
      "9408/9408 [==============================] - 0s 50us/step - loss: 1.2419 - acc: 0.5056 - val_loss: 1.2555 - val_acc: 0.5119\n",
      "Epoch 94/100\n",
      "9408/9408 [==============================] - 0s 49us/step - loss: 1.2419 - acc: 0.5056 - val_loss: 1.2555 - val_acc: 0.5119\n",
      "Epoch 95/100\n",
      "9408/9408 [==============================] - 0s 49us/step - loss: 1.2419 - acc: 0.5056 - val_loss: 1.2555 - val_acc: 0.5119\n",
      "Epoch 96/100\n",
      "9408/9408 [==============================] - 0s 50us/step - loss: 1.2419 - acc: 0.5056 - val_loss: 1.2555 - val_acc: 0.5119\n",
      "Epoch 97/100\n",
      "9408/9408 [==============================] - 0s 51us/step - loss: 1.2419 - acc: 0.5056 - val_loss: 1.2555 - val_acc: 0.5119\n",
      "Epoch 98/100\n",
      "9408/9408 [==============================] - 0s 50us/step - loss: 1.2419 - acc: 0.5056 - val_loss: 1.2555 - val_acc: 0.5119\n",
      "Epoch 99/100\n",
      "9408/9408 [==============================] - 1s 58us/step - loss: 1.2419 - acc: 0.5056 - val_loss: 1.2555 - val_acc: 0.5119\n",
      "Epoch 100/100\n",
      "9408/9408 [==============================] - 1s 59us/step - loss: 1.2419 - acc: 0.5056 - val_loss: 1.2555 - val_acc: 0.5119\n"
     ]
    }
   ],
   "source": [
    "def lr_schedule(epoch):\n",
    "    return lr * (0.1 ** int(epoch / 10))\n",
    "\n",
    "batch_size = 32\n",
    "epochs = 100\n",
    "train_model= model.fit(X, Y,\n",
    "          batch_size=batch_size,\n",
    "          epochs=epochs,\n",
    "          validation_split=0.2,\n",
    "          #np.resize(img, (-1, <image shape>)\n",
    "          callbacks=[LearningRateScheduler(lr_schedule),ModelCheckpoint('/home/atif/training_by_several_learning_process/number_classify/rgb_2_gray/Image-classification/trained_model_text_file/image_size_8_data_type_float_1_filter_trained_model/traffic_model_16_march_ep_100_1_filter.h5', save_best_only=True)])"
   ]
  },
  {
   "cell_type": "code",
   "execution_count": 11,
   "metadata": {},
   "outputs": [
    {
     "name": "stdout",
     "output_type": "stream",
     "text": [
      "dict_keys(['val_loss', 'val_acc', 'loss', 'acc'])\n"
     ]
    },
    {
     "data": {
      "image/png": "[encoded data removed]",
      "text/plain": [
       "<Figure size 432x288 with 1 Axes>"
      ]
     },
     "metadata": {
      "needs_background": "light"
     },
     "output_type": "display_data"
    }
   ],
   "source": [
    "print(train_model.history.keys())\n",
    "# summarize history for accuracy\n",
    "plt.plot(train_model.history['acc'])\n",
    "plt.plot(train_model.history['val_acc'])\n",
    "plt.title('model accuracy')\n",
    "plt.ylabel('accuracy')\n",
    "plt.xlabel('epoch')\n",
    "plt.legend(['train', 'test'], loc='upper left')\n",
    "plt.show()"
   ]
  },
  {
   "cell_type": "code",
   "execution_count": 12,
   "metadata": {},
   "outputs": [
    {
     "name": "stdout",
     "output_type": "stream",
     "text": [
      "dict_keys(['val_loss', 'val_acc', 'loss', 'acc'])\n"
     ]
    },
    {
     "data": {
      "image/png": "[encoded data removed]",
      "text/plain": [
       "<Figure size 432x288 with 1 Axes>"
      ]
     },
     "metadata": {
      "needs_background": "light"
     },
     "output_type": "display_data"
    }
   ],
   "source": [
    "print(train_model.history.keys())\n",
    "# summarize history for accuracy\n",
    "plt.plot(train_model.history['loss'])\n",
    "plt.plot(train_model.history['val_loss'])\n",
    "plt.title('model loss')\n",
    "plt.ylabel('loss')\n",
    "plt.xlabel('epoch')\n",
    "plt.legend(['train', 'test'], loc='upper left')\n",
    "plt.show()"
   ]
  },
  {
   "cell_type": "markdown",
   "metadata": {},
   "source": [
    "# testing image"
   ]
  },
  {
   "cell_type": "code",
   "execution_count": 13,
   "metadata": {},
   "outputs": [
    {
     "name": "stderr",
     "output_type": "stream",
     "text": [
      "/home/atif/anaconda3/envs/venv/lib/python3.6/site-packages/skimage/transform/_warps.py:105: UserWarning: The default mode, 'constant', will be changed to 'reflect' in skimage 0.15.\n",
      "  warn(\"The default mode, 'constant', will be changed to 'reflect' in \"\n",
      "/home/atif/anaconda3/envs/venv/lib/python3.6/site-packages/skimage/transform/_warps.py:110: UserWarning: Anti-aliasing will be enabled by default in skimage 0.15 to avoid aliasing artifacts when down-sampling images.\n",
      "  warn(\"Anti-aliasing will be enabled by default in skimage 0.15 to \"\n"
     ]
    },
    {
     "name": "stdout",
     "output_type": "stream",
     "text": [
      "\n",
      " /home/atif/training_by_several_learning_process/number_classify/rgb_2_gray/Image-classification/test_image/60_speed.ppm\n",
      "predicted class:  [3]\n",
      "probability:  [[4.1180544e-02 2.6751471e-01 6.3266747e-02 3.8749439e-01 6.1824284e-02\n",
      "  1.5475880e-01 3.2710741e-05 3.3180518e-03 2.0609746e-02]]\n",
      "\n",
      " /home/atif/training_by_several_learning_process/number_classify/rgb_2_gray/Image-classification/test_image/50_speed.ppm\n",
      "predicted class:  [2]\n",
      "probability:  [[4.14493639e-04 1.47803724e-01 7.00427711e-01 3.83398263e-04\n",
      "  4.28075194e-02 7.57885817e-03 7.91816565e-05 1.00505166e-01\n",
      "  3.93878388e-08]]\n",
      "\n",
      " /home/atif/training_by_several_learning_process/number_classify/rgb_2_gray/Image-classification/test_image/lorry.ppm\n",
      "predicted class:  [8]\n",
      "probability:  [[4.1729960e-04 1.9592341e-02 2.8719585e-03 3.2523319e-02 1.6440089e-01\n",
      "  1.2677392e-01 3.9836065e-14 1.1409163e-05 6.5340889e-01]]\n",
      "\n",
      " /home/atif/training_by_several_learning_process/number_classify/rgb_2_gray/Image-classification/test_image/80_speed.ppm\n",
      "predicted class:  [1]\n",
      "probability:  [[1.4868608e-02 3.9986864e-01 2.4273287e-01 1.8334267e-01 3.1702679e-02\n",
      "  1.2597798e-01 4.6975962e-05 6.8227580e-04 7.7734527e-04]]\n",
      "\n",
      " /home/atif/training_by_several_learning_process/number_classify/rgb_2_gray/Image-classification/test_image/30_speed.ppm\n",
      "predicted class:  [1]\n",
      "probability:  [[7.0434976e-03 6.4534593e-01 6.9976188e-02 1.2562105e-03 1.4334942e-03\n",
      "  1.0273211e-03 1.8200869e-09 6.9048358e-09 2.7391729e-01]]\n",
      "\n",
      " /home/atif/training_by_several_learning_process/number_classify/rgb_2_gray/Image-classification/test_image/white.ppm\n",
      "predicted class:  [7]\n",
      "probability:  [[1.5424795e-02 1.3458355e-01 2.7710903e-02 4.5595039e-03 4.2557705e-02\n",
      "  6.5206707e-02 1.2578134e-07 7.0994228e-01 1.4409877e-05]]\n",
      "\n",
      " /home/atif/training_by_several_learning_process/number_classify/rgb_2_gray/Image-classification/test_image/20_speed.ppm\n",
      "predicted class:  [2]\n",
      "probability:  [[2.1366982e-02 2.8600281e-01 4.7826192e-01 3.9152931e-03 1.4978039e-01\n",
      "  4.9619626e-02 9.6082378e-11 7.7084820e-05 1.0975872e-02]]\n",
      "\n",
      " /home/atif/training_by_several_learning_process/number_classify/rgb_2_gray/Image-classification/test_image/stop.ppm\n",
      "predicted class:  [7]\n",
      "probability:  [[2.10548556e-09 3.40797186e-07 4.97783645e-08 3.02916057e-08\n",
      "  2.51761708e-06 1.32848445e-05 1.36523083e-01 8.63460779e-01\n",
      "  4.46111410e-13]]\n",
      "\n",
      " /home/atif/training_by_several_learning_process/number_classify/rgb_2_gray/Image-classification/test_image/70_speed.ppm\n",
      "predicted class:  [4]\n",
      "probability:  [[1.15509273e-03 8.66318643e-02 2.08767690e-02 1.17450818e-01\n",
      "  7.57281005e-01 1.23767285e-02 3.64857115e-05 2.04588738e-04\n",
      "  3.98661336e-03]]\n"
     ]
    }
   ],
   "source": [
    "from keras.models import load_model\n",
    "model = load_model('/home/atif/training_by_several_learning_process/number_classify/rgb_2_gray/Image-classification/trained_model_text_file/image_size_8_data_type_float_1_filter_trained_model/traffic_model_16_march_ep_100_1_filter.h5')\n",
    "#for gray scale\n",
    "def preprocess_img(img):\n",
    "#     Histogram normalization in y\n",
    "#     hsv = color.rgb2hsv(img)\n",
    "#     hsv[:,:,2] = exposure.equalize_hist(hsv[:,:,2])\n",
    "#     img = color.hsv2rgb(hsv)\n",
    "\n",
    "    # central scrop\n",
    "    min_side = min(img.shape[:-1])\n",
    "    centre = img.shape[0]//2, img.shape[1]//2\n",
    "    img = img[centre[0]-min_side//2:centre[0]+min_side//2,\n",
    "              centre[1]-min_side//2:centre[1]+min_side//2,\n",
    "              :]\n",
    "    img = rgb2gray(img)\n",
    "\n",
    "    # rescale to standard size\n",
    "    img = transform.resize(img, (IMG_SIZE, IMG_SIZE))\n",
    "\n",
    "    # roll color axis to axis 0\n",
    "    img = np.rollaxis(img,-1)\n",
    "\n",
    "    return img\n",
    "\n",
    "import glob\n",
    "\n",
    "path = r'/home/atif/training_by_several_learning_process/number_classify/rgb_2_gray/Image-classification/test_image/'\n",
    "\n",
    "img_path = glob.glob(path+ '/*.ppm')\n",
    "for image in img_path:\n",
    "    X_test=[]\n",
    "    X_test.append(preprocess_img(io.imread(image)))\n",
    "    X_test = np.array(X_test)\n",
    "#     plt.imshow(X_test)\n",
    "    X_test = X_test.reshape(len(X_test),1,IMG_SIZE,IMG_SIZE)\n",
    "    \n",
    "    print(\"\\n\",image)\n",
    "    predicted_class = model.predict_classes(X_test)\n",
    "    print(\"predicted class: \",predicted_class)\n",
    "    \n",
    "    probability = model.predict_proba(X_test)\n",
    "    print(\"probability: \",probability)"
   ]
  },
  {
   "cell_type": "code",
   "execution_count": null,
   "metadata": {},
   "outputs": [],
   "source": [
    "print(X_test.shape)\n",
    "print(X_test.ndim)\n",
    "# plt.imshow(X_test[0])\n",
    "X_test_show = X_test.reshape(IMG_SIZE,IMG_SIZE) # Need if you want to see the image\\n\",\n",
    "print(X_test_show.shape)\n",
    "plt.imshow(X_test_show)  # Displaying the image\""
   ]
  },
  {
   "cell_type": "code",
   "execution_count": null,
   "metadata": {},
   "outputs": [],
   "source": []
  }
 ],
 "metadata": {
  "kernelspec": {
   "display_name": "Python 3",
   "language": "python",
   "name": "python3"
  },
  "language_info": {
   "codemirror_mode": {
    "name": "ipython",
    "version": 3
   },
   "file_extension": ".py",
   "mimetype": "text/x-python",
   "name": "python",
   "nbconvert_exporter": "python",
   "pygments_lexer": "ipython3",
   "version": "3.6.6"
  }
 },
 "nbformat": 4,
 "nbformat_minor": 2
}
