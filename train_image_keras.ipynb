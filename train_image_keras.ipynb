{
 "cells": [
  {
   "cell_type": "markdown",
   "metadata": {},
   "source": [
    "# Library import"
   ]
  },
  {
   "cell_type": "code",
   "execution_count": 1,
   "metadata": {},
   "outputs": [
    {
     "name": "stderr",
     "output_type": "stream",
     "text": [
      "Using TensorFlow backend.\n"
     ]
    }
   ],
   "source": [
    "import numpy as np\n",
    "from skimage import io, color, exposure, transform\n",
    "from skimage.color import rgb2gray\n",
    "#from sklearn.cross_validation import train_test_split\n",
    "from sklearn.model_selection import train_test_split  #it came from update scikit learn. https://stackoverflow.com/questions/40704484/importerror-no-module-named-model-selection\n",
    "import os\n",
    "import glob\n",
    "import h5py\n",
    "\n",
    "from keras.preprocessing.image import ImageDataGenerator\n",
    "from keras.models import Sequential, model_from_json\n",
    "from keras.layers.core import Dense, Dropout, Activation, Flatten\n",
    "from keras.layers.convolutional import Conv2D,Conv1D\n",
    "from keras.layers.pooling import MaxPooling2D\n",
    "\n",
    "from keras.layers.convolutional import Convolution2D, MaxPooling2D\n",
    "\n",
    "from keras.optimizers import SGD\n",
    "from keras.utils import np_utils\n",
    "from keras.callbacks import LearningRateScheduler, ModelCheckpoint\n",
    "from keras import backend as K\n",
    "K.set_image_data_format('channels_first')\n",
    "\n",
    "from matplotlib import pyplot as plt\n",
    "%matplotlib inline\n",
    "\n",
    "#import keras\n",
    "\n",
    "NUM_CLASSES = 9  #how many different type of class/type of image you are using. Like CAT,DOG, ELEPHANT etc\n",
    "IMG_SIZE = 8  # You can change it. Always keep same size for width and height. That means square size.\n",
    "number_filter = 5"
   ]
  },
  {
   "cell_type": "markdown",
   "metadata": {},
   "source": [
    "# Function for preprocessing image. Able for RGB & Gray Image"
   ]
  },
  {
   "cell_type": "code",
   "execution_count": 2,
   "metadata": {},
   "outputs": [],
   "source": [
    "#for gray scale\n",
    "def preprocess_img(img):\n",
    "    # Histogram normalization in y\n",
    "#     hsv = color.rgb2hsv(img)\n",
    "#     hsv[:,:,2] = exposure.equalize_hist(hsv[:,:,2])\n",
    "#     img = color.hsv2rgb(hsv)\n",
    "\n",
    "    # central scrop\n",
    "    min_side = min(img.shape[:-1])\n",
    "    centre = img.shape[0]//2, img.shape[1]//2\n",
    "    img = img[centre[0]-min_side//2:centre[0]+min_side//2,\n",
    "              centre[1]-min_side//2:centre[1]+min_side//2,\n",
    "              :]\n",
    "    img = rgb2gray(img)\n",
    "\n",
    "    # rescale to standard size\n",
    "    img = transform.resize(img, (IMG_SIZE, IMG_SIZE))\n",
    "\n",
    "    # roll color axis to axis 0\n",
    "    img = np.rollaxis(img,-1)\n",
    "\n",
    "    return img\n",
    "\n",
    "def get_class(img_path):\n",
    "    return int(img_path.split('/')[-2])"
   ]
  },
  {
   "cell_type": "markdown",
   "metadata": {},
   "source": [
    "# Store the image and label in array. Run this cell if you need to do training. For testing no need to run it"
   ]
  },
  {
   "cell_type": "code",
   "execution_count": 3,
   "metadata": {},
   "outputs": [
    {
     "name": "stderr",
     "output_type": "stream",
     "text": [
      "/home/atif/anaconda3/envs/venv/lib/python3.6/site-packages/skimage/transform/_warps.py:105: UserWarning: The default mode, 'constant', will be changed to 'reflect' in skimage 0.15.\n",
      "  warn(\"The default mode, 'constant', will be changed to 'reflect' in \"\n",
      "/home/atif/anaconda3/envs/venv/lib/python3.6/site-packages/skimage/transform/_warps.py:110: UserWarning: Anti-aliasing will be enabled by default in skimage 0.15 to avoid aliasing artifacts when down-sampling images.\n",
      "  warn(\"Anti-aliasing will be enabled by default in skimage 0.15 to \"\n"
     ]
    },
    {
     "name": "stdout",
     "output_type": "stream",
     "text": [
      "Processed 1000/11760\n",
      "Processed 2000/11760\n",
      "Processed 3000/11760\n",
      "Processed 4000/11760\n",
      "Processed 5000/11760\n",
      "Processed 6000/11760\n",
      "Processed 7000/11760\n",
      "Processed 8000/11760\n",
      "Processed 9000/11760\n",
      "Processed 10000/11760\n",
      "Processed 11000/11760\n"
     ]
    }
   ],
   "source": [
    "imgs = []\n",
    "labels = []\n",
    "root_dir = '/home/atif/training_by_several_learning_process/number_classify/rgb_2_gray/Image-classification/train_image/'\n",
    "#path='/home/atif/training_by_several_learning_process/flower_photos/00000/'\n",
    "\n",
    "#all_img_paths = glob.glob(path+ '5547758_eea9edfd54_n_000.jpg')\n",
    "\n",
    "all_img_paths = glob.glob(os.path.join(root_dir, '*/*.ppm')) #I have done the training with .ppm format image. If another type of image will come \n",
    "                                                                                    #them .ppm will be changed by that extension\n",
    "np.random.shuffle(all_img_paths)\n",
    "for img_path in all_img_paths:\n",
    "    try:\n",
    "        img = preprocess_img(io.imread(img_path))\n",
    "        label = get_class(img_path)\n",
    "        imgs.append(img)\n",
    "        labels.append(label)\n",
    "\n",
    "        if len(imgs)%1000 == 0: print(\"Processed {}/{}\".format(len(imgs), len(all_img_paths)))\n",
    "            #print(\"get it 2\")\n",
    "    except (IOError, OSError):\n",
    "        print('missed', img_path)\n",
    "        pass\n",
    "\n",
    "X = np.array(imgs, dtype='float32') #Keeping the image as an array\n",
    "Y = np.eye(NUM_CLASSES, dtype='uint8')[labels] #labels of the image"
   ]
  },
  {
   "cell_type": "code",
   "execution_count": 4,
   "metadata": {},
   "outputs": [
    {
     "name": "stdout",
     "output_type": "stream",
     "text": [
      "[[[0.87966925 0.21742298 0.18823698 ... 0.20163527 0.1623446  0.19858555]\n",
      "  [0.34627584 0.20389156 0.41243085 ... 0.38479063 0.18634371 0.20910794]\n",
      "  [0.5084503  0.38818428 0.4227144  ... 0.68279886 0.4094494  0.23253906]\n",
      "  ...\n",
      "  [0.94248456 0.50402987 0.6156635  ... 0.56015205 0.28019923 0.1566745 ]\n",
      "  [0.3540366  0.22810185 0.39233884 ... 0.29555655 0.24871218 0.14428936]\n",
      "  [0.27633914 0.196739   0.17851153 ... 0.1390104  0.10601932 0.21071902]]\n",
      "\n",
      " [[0.9651243  0.92070544 0.8416287  ... 0.8300371  0.68007725 0.9667377 ]\n",
      "  [0.9348549  0.9341597  0.9705955  ... 0.8633098  0.8277495  0.9391453 ]\n",
      "  [0.7468351  0.93905383 0.3480737  ... 0.38256475 0.6820426  0.9426031 ]\n",
      "  ...\n",
      "  [0.7441497  0.84143347 0.34808463 ... 0.6190271  0.3831098  0.9893017 ]\n",
      "  [0.5018094  0.36299777 0.38730145 ... 0.36066535 0.94458115 0.6681786 ]\n",
      "  [0.8131038  0.34702766 0.55971247 ... 0.6287379  0.64277613 0.7468819 ]]\n",
      "\n",
      " [[1.         1.         1.         ... 1.         1.         0.70635587]\n",
      "  [1.         1.         0.49075744 ... 0.2206413  0.99746114 0.5076599 ]\n",
      "  [1.         0.42606923 0.21710841 ... 0.36592022 0.1365252  0.4008535 ]\n",
      "  ...\n",
      "  [1.         0.15926084 0.38371354 ... 0.2895974  0.12703162 0.3787319 ]\n",
      "  [1.         0.9976562  0.13285981 ... 0.13229755 0.6838339  0.44096425]\n",
      "  [1.         1.         1.         ... 1.         1.         0.45758185]]\n",
      "\n",
      " ...\n",
      "\n",
      " [[0.6215891  0.6680462  0.6731543  ... 0.26084352 0.25972638 0.38045403]\n",
      "  [0.67393744 0.70544726 0.73794943 ... 0.37585676 0.34774852 0.38877717]\n",
      "  [0.7318049  0.71750826 0.7050857  ... 0.16897559 0.17426647 0.19536442]\n",
      "  ...\n",
      "  [0.7203746  0.72656244 0.34997913 ... 0.27404636 0.1747451  0.17600343]\n",
      "  [0.4555657  0.48691833 0.5096506  ... 0.2940263  0.53327346 0.5960473 ]\n",
      "  [0.49132293 0.46083775 0.42879617 ... 0.30583176 0.26940116 0.23389255]]\n",
      "\n",
      " [[0.3041615  0.31335783 0.24370225 ... 0.27862388 0.29922673 0.26844126]\n",
      "  [0.26222286 0.2728022  0.29862317 ... 0.29948437 0.2800182  0.3473854 ]\n",
      "  [0.38017628 0.39113933 0.41575643 ... 0.29769105 0.27754554 0.34312612]\n",
      "  ...\n",
      "  [0.33493608 0.40473005 0.18784334 ... 0.60332537 0.21349132 0.37667862]\n",
      "  [0.30859485 0.39642382 0.40539795 ... 0.24938785 0.3465075  0.39235288]\n",
      "  [0.38331676 0.3955615  0.36959732 ... 0.39396787 0.35778487 0.38883469]]\n",
      "\n",
      " [[0.18267243 0.16926147 0.12794493 ... 0.14625703 0.13999118 0.13344617]\n",
      "  [0.19696684 0.15450385 0.13881779 ... 0.13019547 0.10801498 0.12933013]\n",
      "  [0.18357338 0.17441258 0.1727902  ... 0.23182943 0.17649405 0.23609975]\n",
      "  ...\n",
      "  [0.10340581 0.14372191 0.19617175 ... 0.27723432 0.16664441 0.1659736 ]\n",
      "  [0.12025694 0.13550627 0.1575803  ... 0.18774885 0.16218343 0.15494789]\n",
      "  [0.14465676 0.12245025 0.11741929 ... 0.12984137 0.12334814 0.13254625]]]\n"
     ]
    }
   ],
   "source": [
    "print(X)"
   ]
  },
  {
   "cell_type": "code",
   "execution_count": 15,
   "metadata": {},
   "outputs": [
    {
     "name": "stdout",
     "output_type": "stream",
     "text": [
      "(11760, 1, 8, 8)\n",
      "(11760, 1, 8, 8)\n",
      "4\n",
      "(1, 8, 8)\n"
     ]
    }
   ],
   "source": [
    "# X = np.array(imgs, dtype='float32')\n",
    "print(X.shape)\n",
    "#plt.imshow(X[0])\n",
    "# plt.imshow(X[0],cmap=\"gray\")\n",
    "# plt.imshow(X[0]) #if you use this command here you will see something coloured image. No problem, it is gray image. \n",
    "                        #To see full Black and white image uncomment the previous line.\n",
    "X = X.reshape(len(imgs),1,IMG_SIZE,IMG_SIZE) # write (IMG_SIZE,IMG_SIZE,1 if you want channel last; 1= grayscale;3=RGB)\n",
    "# plt.imshow(X[0],cmap=\"gray\")\n",
    "print(X.shape)\n",
    "print(X.ndim)\n",
    "print(X[0].shape)"
   ]
  },
  {
   "cell_type": "code",
   "execution_count": 16,
   "metadata": {},
   "outputs": [
    {
     "name": "stdout",
     "output_type": "stream",
     "text": [
      "(11760, 1, 8, 8)\n",
      "(11760, 9)\n"
     ]
    }
   ],
   "source": [
    "print(X.shape)\n",
    "print(Y.shape)"
   ]
  },
  {
   "cell_type": "markdown",
   "metadata": {},
   "source": [
    "# making a model. Run it for training and testing"
   ]
  },
  {
   "cell_type": "code",
   "execution_count": 17,
   "metadata": {},
   "outputs": [],
   "source": [
    "# This model is for understanding the inner calculation of CNN that's why I have started witha minimal layer as well as model.\n",
    "# Increase the filter number and layer if you want a good result\n",
    "#Conv2D(1, (3, 3) >> here 1 = number of filter. (3,3) = kernel height and width\n",
    "# you can just add padding just beside Conv2D. (model.add(Conv2D(1,(3,3)),padding='same',....))\n",
    "# I haven't added here for remove complexity in c++(I have tried to implement this whole model in testing phase in cpp)\n",
    "def cnn_model():\n",
    "#      padding='same'\n",
    "    model = Sequential()\n",
    "\n",
    "    model.add(Conv2D(number_filter, (3, 3),\n",
    "                     input_shape=(1,IMG_SIZE, IMG_SIZE),\n",
    "                     activation='relu'))\n",
    "    model.add(Flatten())\n",
    "#     model.add(Dense(512, activation='relu'))\n",
    "    model.add(Dense(NUM_CLASSES, activation='softmax'))\n",
    "    \n",
    "    return model\n",
    "\n",
    "model = cnn_model()\n",
    "\n",
    "lr = 0.01\n",
    "sgd = SGD(lr=lr, decay=1e-6, momentum=0.9, nesterov=True)\n",
    "model.compile(loss='categorical_crossentropy',\n",
    "          optimizer=sgd,\n",
    "          metrics=['accuracy'])"
   ]
  },
  {
   "cell_type": "code",
   "execution_count": 18,
   "metadata": {},
   "outputs": [
    {
     "name": "stdout",
     "output_type": "stream",
     "text": [
      "_________________________________________________________________\n",
      "Layer (type)                 Output Shape              Param #   \n",
      "=================================================================\n",
      "conv2d_1 (Conv2D)            (None, 5, 6, 6)           50        \n",
      "_________________________________________________________________\n",
      "flatten_1 (Flatten)          (None, 180)               0         \n",
      "_________________________________________________________________\n",
      "dense_1 (Dense)              (None, 9)                 1629      \n",
      "=================================================================\n",
      "Total params: 1,679\n",
      "Trainable params: 1,679\n",
      "Non-trainable params: 0\n",
      "_________________________________________________________________\n"
     ]
    }
   ],
   "source": [
    "model.summary()"
   ]
  },
  {
   "cell_type": "markdown",
   "metadata": {},
   "source": [
    "# Training phase. Storing the model also for further use"
   ]
  },
  {
   "cell_type": "code",
   "execution_count": 19,
   "metadata": {},
   "outputs": [
    {
     "name": "stdout",
     "output_type": "stream",
     "text": [
      "Train on 9408 samples, validate on 2352 samples\n",
      "Epoch 1/100\n",
      "9408/9408 [==============================] - 2s 248us/step - loss: 1.8274 - acc: 0.2851 - val_loss: 1.6099 - val_acc: 0.3733\n",
      "Epoch 2/100\n",
      "9408/9408 [==============================] - 1s 72us/step - loss: 1.4916 - acc: 0.4209 - val_loss: 1.3834 - val_acc: 0.4558\n",
      "Epoch 3/100\n",
      "9408/9408 [==============================] - 1s 72us/step - loss: 1.3307 - acc: 0.4879 - val_loss: 1.2829 - val_acc: 0.5115\n",
      "Epoch 4/100\n",
      "9408/9408 [==============================] - 1s 73us/step - loss: 1.2365 - acc: 0.5288 - val_loss: 1.2098 - val_acc: 0.5298\n",
      "Epoch 5/100\n",
      "9408/9408 [==============================] - 1s 82us/step - loss: 1.1761 - acc: 0.5545 - val_loss: 1.1963 - val_acc: 0.5255\n",
      "Epoch 6/100\n",
      "9408/9408 [==============================] - 1s 75us/step - loss: 1.1351 - acc: 0.5712 - val_loss: 1.1519 - val_acc: 0.5625\n",
      "Epoch 7/100\n",
      "9408/9408 [==============================] - 1s 74us/step - loss: 1.0946 - acc: 0.5894 - val_loss: 1.1059 - val_acc: 0.5846\n",
      "Epoch 8/100\n",
      "9408/9408 [==============================] - 1s 76us/step - loss: 1.0626 - acc: 0.6069 - val_loss: 1.0674 - val_acc: 0.5808\n",
      "Epoch 9/100\n",
      "9408/9408 [==============================] - 1s 76us/step - loss: 1.0364 - acc: 0.6121 - val_loss: 1.0689 - val_acc: 0.5897\n",
      "Epoch 10/100\n",
      "9408/9408 [==============================] - 1s 77us/step - loss: 1.0102 - acc: 0.6247 - val_loss: 1.0621 - val_acc: 0.6020\n",
      "Epoch 11/100\n",
      "9408/9408 [==============================] - 1s 77us/step - loss: 0.9732 - acc: 0.6465 - val_loss: 1.0140 - val_acc: 0.6318\n",
      "Epoch 12/100\n",
      "9408/9408 [==============================] - 1s 76us/step - loss: 0.9654 - acc: 0.6490 - val_loss: 1.0132 - val_acc: 0.6276\n",
      "Epoch 13/100\n",
      "9408/9408 [==============================] - 1s 76us/step - loss: 0.9624 - acc: 0.6496 - val_loss: 1.0088 - val_acc: 0.6305\n",
      "Epoch 14/100\n",
      "9408/9408 [==============================] - 1s 77us/step - loss: 0.9599 - acc: 0.6508 - val_loss: 1.0060 - val_acc: 0.6314\n",
      "Epoch 15/100\n",
      "9408/9408 [==============================] - 1s 90us/step - loss: 0.9577 - acc: 0.6525 - val_loss: 1.0040 - val_acc: 0.6412\n",
      "Epoch 16/100\n",
      "9408/9408 [==============================] - 1s 77us/step - loss: 0.9556 - acc: 0.6553 - val_loss: 1.0010 - val_acc: 0.6365\n",
      "Epoch 17/100\n",
      "9408/9408 [==============================] - 1s 76us/step - loss: 0.9525 - acc: 0.6558 - val_loss: 1.0043 - val_acc: 0.6327\n",
      "Epoch 18/100\n",
      "9408/9408 [==============================] - 1s 75us/step - loss: 0.9512 - acc: 0.6531 - val_loss: 1.0004 - val_acc: 0.6361\n",
      "Epoch 19/100\n",
      "9408/9408 [==============================] - 1s 77us/step - loss: 0.9490 - acc: 0.6582 - val_loss: 1.0002 - val_acc: 0.6271\n",
      "Epoch 20/100\n",
      "9408/9408 [==============================] - 1s 76us/step - loss: 0.9460 - acc: 0.6539 - val_loss: 0.9961 - val_acc: 0.6416\n",
      "Epoch 21/100\n",
      "9408/9408 [==============================] - 1s 76us/step - loss: 0.9415 - acc: 0.6612 - val_loss: 0.9933 - val_acc: 0.6386\n",
      "Epoch 22/100\n",
      "9408/9408 [==============================] - 1s 88us/step - loss: 0.9407 - acc: 0.6600 - val_loss: 0.9928 - val_acc: 0.6395\n",
      "Epoch 23/100\n",
      "9408/9408 [==============================] - 1s 76us/step - loss: 0.9401 - acc: 0.6593 - val_loss: 0.9949 - val_acc: 0.6382\n",
      "Epoch 24/100\n",
      "9408/9408 [==============================] - 1s 77us/step - loss: 0.9402 - acc: 0.6602 - val_loss: 0.9928 - val_acc: 0.6386\n",
      "Epoch 25/100\n",
      "9408/9408 [==============================] - 1s 79us/step - loss: 0.9399 - acc: 0.6612 - val_loss: 0.9928 - val_acc: 0.6382\n",
      "Epoch 26/100\n",
      "9408/9408 [==============================] - 1s 75us/step - loss: 0.9397 - acc: 0.6608 - val_loss: 0.9925 - val_acc: 0.6386\n",
      "Epoch 27/100\n",
      "9408/9408 [==============================] - 1s 78us/step - loss: 0.9395 - acc: 0.6620 - val_loss: 0.9924 - val_acc: 0.6378\n",
      "Epoch 28/100\n",
      "9408/9408 [==============================] - 1s 77us/step - loss: 0.9392 - acc: 0.6601 - val_loss: 0.9926 - val_acc: 0.6382\n",
      "Epoch 29/100\n",
      "9408/9408 [==============================] - 1s 83us/step - loss: 0.9391 - acc: 0.6614 - val_loss: 0.9921 - val_acc: 0.6382\n",
      "Epoch 30/100\n",
      "9408/9408 [==============================] - 1s 78us/step - loss: 0.9389 - acc: 0.6608 - val_loss: 0.9915 - val_acc: 0.6382\n",
      "Epoch 31/100\n",
      "9408/9408 [==============================] - 1s 76us/step - loss: 0.9381 - acc: 0.6614 - val_loss: 0.9917 - val_acc: 0.6399\n",
      "Epoch 32/100\n",
      "9408/9408 [==============================] - 1s 77us/step - loss: 0.9381 - acc: 0.6610 - val_loss: 0.9917 - val_acc: 0.6395\n",
      "Epoch 33/100\n",
      "9408/9408 [==============================] - 1s 78us/step - loss: 0.9380 - acc: 0.6616 - val_loss: 0.9917 - val_acc: 0.6395\n",
      "Epoch 34/100\n",
      "9408/9408 [==============================] - 1s 77us/step - loss: 0.9380 - acc: 0.6620 - val_loss: 0.9917 - val_acc: 0.6395\n",
      "Epoch 35/100\n",
      "9408/9408 [==============================] - 1s 77us/step - loss: 0.9380 - acc: 0.6618 - val_loss: 0.9917 - val_acc: 0.6395\n",
      "Epoch 36/100\n",
      "9408/9408 [==============================] - 1s 76us/step - loss: 0.9380 - acc: 0.6618 - val_loss: 0.9917 - val_acc: 0.6395\n",
      "Epoch 37/100\n",
      "9408/9408 [==============================] - 1s 77us/step - loss: 0.9380 - acc: 0.6622 - val_loss: 0.9917 - val_acc: 0.6395\n",
      "Epoch 38/100\n",
      "9408/9408 [==============================] - 1s 94us/step - loss: 0.9379 - acc: 0.6622 - val_loss: 0.9917 - val_acc: 0.6395\n",
      "Epoch 39/100\n",
      "9408/9408 [==============================] - 1s 77us/step - loss: 0.9379 - acc: 0.6623 - val_loss: 0.9917 - val_acc: 0.6395\n",
      "Epoch 40/100\n",
      "9408/9408 [==============================] - 1s 112us/step - loss: 0.9379 - acc: 0.6618 - val_loss: 0.9916 - val_acc: 0.6395\n",
      "Epoch 41/100\n",
      "9408/9408 [==============================] - 1s 110us/step - loss: 0.9378 - acc: 0.6621 - val_loss: 0.9916 - val_acc: 0.6395\n",
      "Epoch 42/100\n",
      "9408/9408 [==============================] - 1s 113us/step - loss: 0.9378 - acc: 0.6622 - val_loss: 0.9916 - val_acc: 0.6395\n",
      "Epoch 43/100\n",
      "9408/9408 [==============================] - 1s 120us/step - loss: 0.9378 - acc: 0.6622 - val_loss: 0.9916 - val_acc: 0.6395\n",
      "Epoch 44/100\n",
      "9408/9408 [==============================] - 1s 80us/step - loss: 0.9378 - acc: 0.6622 - val_loss: 0.9916 - val_acc: 0.6395\n",
      "Epoch 45/100\n",
      "9408/9408 [==============================] - 1s 79us/step - loss: 0.9378 - acc: 0.6622 - val_loss: 0.9916 - val_acc: 0.6395\n",
      "Epoch 46/100\n",
      "9408/9408 [==============================] - 1s 74us/step - loss: 0.9378 - acc: 0.6622 - val_loss: 0.9916 - val_acc: 0.6395\n",
      "Epoch 47/100\n",
      "9408/9408 [==============================] - 1s 78us/step - loss: 0.9378 - acc: 0.6622 - val_loss: 0.9916 - val_acc: 0.6395\n",
      "Epoch 48/100\n",
      "9408/9408 [==============================] - 1s 85us/step - loss: 0.9378 - acc: 0.6622 - val_loss: 0.9916 - val_acc: 0.6395\n",
      "Epoch 49/100\n",
      "9408/9408 [==============================] - 1s 86us/step - loss: 0.9378 - acc: 0.6622 - val_loss: 0.9916 - val_acc: 0.6395\n",
      "Epoch 50/100\n",
      "9408/9408 [==============================] - 1s 91us/step - loss: 0.9378 - acc: 0.6621 - val_loss: 0.9916 - val_acc: 0.6395\n",
      "Epoch 51/100\n",
      "9408/9408 [==============================] - 1s 98us/step - loss: 0.9378 - acc: 0.6621 - val_loss: 0.9916 - val_acc: 0.6395\n",
      "Epoch 52/100\n",
      "9408/9408 [==============================] - 1s 84us/step - loss: 0.9378 - acc: 0.6622 - val_loss: 0.9916 - val_acc: 0.6395\n",
      "Epoch 53/100\n",
      "9408/9408 [==============================] - 1s 67us/step - loss: 0.9378 - acc: 0.6621 - val_loss: 0.9916 - val_acc: 0.6395\n",
      "Epoch 54/100\n",
      "9408/9408 [==============================] - 1s 64us/step - loss: 0.9378 - acc: 0.6621 - val_loss: 0.9916 - val_acc: 0.6395\n",
      "Epoch 55/100\n",
      "9408/9408 [==============================] - 1s 67us/step - loss: 0.9378 - acc: 0.6621 - val_loss: 0.9916 - val_acc: 0.6395\n",
      "Epoch 56/100\n",
      "9408/9408 [==============================] - 1s 66us/step - loss: 0.9378 - acc: 0.6621 - val_loss: 0.9916 - val_acc: 0.6395\n",
      "Epoch 57/100\n",
      "9408/9408 [==============================] - 1s 70us/step - loss: 0.9378 - acc: 0.6621 - val_loss: 0.9916 - val_acc: 0.6395\n",
      "Epoch 58/100\n",
      "9408/9408 [==============================] - 1s 66us/step - loss: 0.9378 - acc: 0.6621 - val_loss: 0.9916 - val_acc: 0.6395\n",
      "Epoch 59/100\n",
      "9408/9408 [==============================] - 1s 64us/step - loss: 0.9378 - acc: 0.6621 - val_loss: 0.9916 - val_acc: 0.6395\n",
      "Epoch 60/100\n"
     ]
    },
    {
     "name": "stdout",
     "output_type": "stream",
     "text": [
      "9408/9408 [==============================] - 1s 76us/step - loss: 0.9378 - acc: 0.6621 - val_loss: 0.9916 - val_acc: 0.6395\n",
      "Epoch 61/100\n",
      "9408/9408 [==============================] - 1s 64us/step - loss: 0.9378 - acc: 0.6621 - val_loss: 0.9916 - val_acc: 0.6395\n",
      "Epoch 62/100\n",
      "9408/9408 [==============================] - 1s 64us/step - loss: 0.9378 - acc: 0.6621 - val_loss: 0.9916 - val_acc: 0.6395\n",
      "Epoch 63/100\n",
      "9408/9408 [==============================] - 1s 62us/step - loss: 0.9378 - acc: 0.6621 - val_loss: 0.9916 - val_acc: 0.6395\n",
      "Epoch 64/100\n",
      "9408/9408 [==============================] - 1s 63us/step - loss: 0.9378 - acc: 0.6621 - val_loss: 0.9916 - val_acc: 0.6395\n",
      "Epoch 65/100\n",
      "9408/9408 [==============================] - 1s 63us/step - loss: 0.9378 - acc: 0.6621 - val_loss: 0.9916 - val_acc: 0.6395\n",
      "Epoch 66/100\n",
      "9408/9408 [==============================] - 1s 72us/step - loss: 0.9378 - acc: 0.6621 - val_loss: 0.9916 - val_acc: 0.6395\n",
      "Epoch 67/100\n",
      "9408/9408 [==============================] - 1s 65us/step - loss: 0.9378 - acc: 0.6621 - val_loss: 0.9916 - val_acc: 0.6395\n",
      "Epoch 68/100\n",
      "9408/9408 [==============================] - 1s 62us/step - loss: 0.9378 - acc: 0.6621 - val_loss: 0.9916 - val_acc: 0.6395\n",
      "Epoch 69/100\n",
      "9408/9408 [==============================] - 1s 62us/step - loss: 0.9378 - acc: 0.6621 - val_loss: 0.9916 - val_acc: 0.6395\n",
      "Epoch 70/100\n",
      "9408/9408 [==============================] - 1s 62us/step - loss: 0.9378 - acc: 0.6621 - val_loss: 0.9916 - val_acc: 0.6395\n",
      "Epoch 71/100\n",
      "9408/9408 [==============================] - 1s 61us/step - loss: 0.9378 - acc: 0.6621 - val_loss: 0.9916 - val_acc: 0.6395\n",
      "Epoch 72/100\n",
      "9408/9408 [==============================] - 1s 62us/step - loss: 0.9378 - acc: 0.6621 - val_loss: 0.9916 - val_acc: 0.6395\n",
      "Epoch 73/100\n",
      "9408/9408 [==============================] - 1s 61us/step - loss: 0.9378 - acc: 0.6621 - val_loss: 0.9916 - val_acc: 0.6395\n",
      "Epoch 74/100\n",
      "9408/9408 [==============================] - 1s 62us/step - loss: 0.9378 - acc: 0.6621 - val_loss: 0.9916 - val_acc: 0.6395\n",
      "Epoch 75/100\n",
      "9408/9408 [==============================] - 1s 61us/step - loss: 0.9378 - acc: 0.6621 - val_loss: 0.9916 - val_acc: 0.6395\n",
      "Epoch 76/100\n",
      "9408/9408 [==============================] - 1s 61us/step - loss: 0.9378 - acc: 0.6621 - val_loss: 0.9916 - val_acc: 0.6395\n",
      "Epoch 77/100\n",
      "9408/9408 [==============================] - 1s 61us/step - loss: 0.9378 - acc: 0.6621 - val_loss: 0.9916 - val_acc: 0.6395\n",
      "Epoch 78/100\n",
      "9408/9408 [==============================] - 1s 61us/step - loss: 0.9378 - acc: 0.6621 - val_loss: 0.9916 - val_acc: 0.6395\n",
      "Epoch 79/100\n",
      "9408/9408 [==============================] - 1s 61us/step - loss: 0.9378 - acc: 0.6621 - val_loss: 0.9916 - val_acc: 0.6395\n",
      "Epoch 80/100\n",
      "9408/9408 [==============================] - 1s 61us/step - loss: 0.9378 - acc: 0.6621 - val_loss: 0.9916 - val_acc: 0.6395\n",
      "Epoch 81/100\n",
      "9408/9408 [==============================] - 1s 62us/step - loss: 0.9378 - acc: 0.6621 - val_loss: 0.9916 - val_acc: 0.6395\n",
      "Epoch 82/100\n",
      "9408/9408 [==============================] - 1s 63us/step - loss: 0.9378 - acc: 0.6621 - val_loss: 0.9916 - val_acc: 0.6395\n",
      "Epoch 83/100\n",
      "9408/9408 [==============================] - 1s 62us/step - loss: 0.9378 - acc: 0.6621 - val_loss: 0.9916 - val_acc: 0.6395\n",
      "Epoch 84/100\n",
      "9408/9408 [==============================] - 1s 63us/step - loss: 0.9378 - acc: 0.6621 - val_loss: 0.9916 - val_acc: 0.6395\n",
      "Epoch 85/100\n",
      "9408/9408 [==============================] - 1s 60us/step - loss: 0.9378 - acc: 0.6621 - val_loss: 0.9916 - val_acc: 0.6395\n",
      "Epoch 86/100\n",
      "9408/9408 [==============================] - 1s 63us/step - loss: 0.9378 - acc: 0.6621 - val_loss: 0.9916 - val_acc: 0.6395\n",
      "Epoch 87/100\n",
      "9408/9408 [==============================] - 1s 61us/step - loss: 0.9378 - acc: 0.6621 - val_loss: 0.9916 - val_acc: 0.6395\n",
      "Epoch 88/100\n",
      "9408/9408 [==============================] - 1s 62us/step - loss: 0.9378 - acc: 0.6621 - val_loss: 0.9916 - val_acc: 0.6395\n",
      "Epoch 89/100\n",
      "9408/9408 [==============================] - 1s 62us/step - loss: 0.9378 - acc: 0.6621 - val_loss: 0.9916 - val_acc: 0.6395\n",
      "Epoch 90/100\n",
      "9408/9408 [==============================] - 1s 61us/step - loss: 0.9378 - acc: 0.6621 - val_loss: 0.9916 - val_acc: 0.6395\n",
      "Epoch 91/100\n",
      "9408/9408 [==============================] - 1s 65us/step - loss: 0.9378 - acc: 0.6621 - val_loss: 0.9916 - val_acc: 0.6395\n",
      "Epoch 92/100\n",
      "9408/9408 [==============================] - 1s 61us/step - loss: 0.9378 - acc: 0.6621 - val_loss: 0.9916 - val_acc: 0.6395\n",
      "Epoch 93/100\n",
      "9408/9408 [==============================] - 1s 62us/step - loss: 0.9378 - acc: 0.6621 - val_loss: 0.9916 - val_acc: 0.6395\n",
      "Epoch 94/100\n",
      "9408/9408 [==============================] - 1s 61us/step - loss: 0.9378 - acc: 0.6621 - val_loss: 0.9916 - val_acc: 0.6395\n",
      "Epoch 95/100\n",
      "9408/9408 [==============================] - 1s 62us/step - loss: 0.9378 - acc: 0.6621 - val_loss: 0.9916 - val_acc: 0.6395\n",
      "Epoch 96/100\n",
      "9408/9408 [==============================] - 1s 62us/step - loss: 0.9378 - acc: 0.6621 - val_loss: 0.9916 - val_acc: 0.6395\n",
      "Epoch 97/100\n",
      "9408/9408 [==============================] - 1s 61us/step - loss: 0.9378 - acc: 0.6621 - val_loss: 0.9916 - val_acc: 0.6395\n",
      "Epoch 98/100\n",
      "9408/9408 [==============================] - 1s 62us/step - loss: 0.9378 - acc: 0.6621 - val_loss: 0.9916 - val_acc: 0.6395\n",
      "Epoch 99/100\n",
      "9408/9408 [==============================] - 1s 62us/step - loss: 0.9378 - acc: 0.6621 - val_loss: 0.9916 - val_acc: 0.6395\n",
      "Epoch 100/100\n",
      "9408/9408 [==============================] - 1s 61us/step - loss: 0.9378 - acc: 0.6621 - val_loss: 0.9916 - val_acc: 0.6395\n"
     ]
    }
   ],
   "source": [
    "def lr_schedule(epoch):\n",
    "    return lr * (0.1 ** int(epoch / 10))\n",
    "\n",
    "batch_size = 32\n",
    "epochs = 100\n",
    "train_model= model.fit(X, Y,\n",
    "          batch_size=batch_size,\n",
    "          epochs=epochs,\n",
    "          validation_split=0.2,\n",
    "          #np.resize(img, (-1, <image shape>)\n",
    "          callbacks=[LearningRateScheduler(lr_schedule),ModelCheckpoint('/home/atif/training_by_several_learning_process/number_classify/rgb_2_gray/Image-classification/trained_model_text_file/image_size_8_data_type_float_trained_model/traffic_model_14_march_ep_100_int_val.h5', save_best_only=True)])"
   ]
  },
  {
   "cell_type": "code",
   "execution_count": 16,
   "metadata": {},
   "outputs": [
    {
     "name": "stdout",
     "output_type": "stream",
     "text": [
      "dict_keys(['val_loss', 'val_acc', 'loss', 'acc'])\n"
     ]
    },
    {
     "data": {
      "image/png": "[encoded data removed]",
      "text/plain": [
       "<Figure size 432x288 with 1 Axes>"
      ]
     },
     "metadata": {
      "needs_background": "light"
     },
     "output_type": "display_data"
    }
   ],
   "source": [
    "print(train_model.history.keys())\n",
    "# summarize history for accuracy\n",
    "plt.plot(train_model.history['acc'])\n",
    "plt.plot(train_model.history['val_acc'])\n",
    "plt.title('model accuracy')\n",
    "plt.ylabel('accuracy')\n",
    "plt.xlabel('epoch')\n",
    "plt.legend(['train', 'test'], loc='upper left')\n",
    "plt.show()"
   ]
  },
  {
   "cell_type": "code",
   "execution_count": 17,
   "metadata": {},
   "outputs": [
    {
     "name": "stdout",
     "output_type": "stream",
     "text": [
      "dict_keys(['val_loss', 'val_acc', 'loss', 'acc'])\n"
     ]
    },
    {
     "data": {
      "image/png": "[encoded data removed]",
      "text/plain": [
       "<Figure size 432x288 with 1 Axes>"
      ]
     },
     "metadata": {
      "needs_background": "light"
     },
     "output_type": "display_data"
    }
   ],
   "source": [
    "print(train_model.history.keys())\n",
    "# summarize history for accuracy\n",
    "plt.plot(train_model.history['loss'])\n",
    "plt.plot(train_model.history['val_loss'])\n",
    "plt.title('model loss')\n",
    "plt.ylabel('loss')\n",
    "plt.xlabel('epoch')\n",
    "plt.legend(['train', 'test'], loc='upper left')\n",
    "plt.show()"
   ]
  },
  {
   "cell_type": "markdown",
   "metadata": {},
   "source": [
    "# testing image"
   ]
  },
  {
   "cell_type": "code",
   "execution_count": 20,
   "metadata": {},
   "outputs": [
    {
     "name": "stdout",
     "output_type": "stream",
     "text": [
      "\n",
      " /home/atif/training_by_several_learning_process/number_classify/rgb_2_gray/Image-classification/test_image/60_speed.ppm\n",
      "predicted class:  [3]\n",
      "probability:  [[2.7750938e-03 2.3004103e-02 8.1319185e-03 8.5185784e-01 3.2421786e-03\n",
      "  1.0981418e-01 6.7189999e-06 8.1104453e-04 3.5697652e-04]]\n",
      "\n",
      " /home/atif/training_by_several_learning_process/number_classify/rgb_2_gray/Image-classification/test_image/50_speed.ppm\n",
      "predicted class:  [2]\n",
      "probability:  [[3.4383957e-05 2.1176649e-02 9.5949316e-01 6.4158160e-04 1.6614221e-02\n",
      "  1.3603452e-03 7.3723786e-05 6.0574804e-04 7.3087470e-08]]\n",
      "\n",
      " /home/atif/training_by_several_learning_process/number_classify/rgb_2_gray/Image-classification/test_image/lorry.ppm\n",
      "predicted class:  [8]\n",
      "probability:  [[9.0368754e-05 6.3120089e-03 2.2581484e-05 1.5242946e-03 1.5791066e-02\n",
      "  5.1691554e-02 1.0570022e-14 4.3715937e-07 9.2456764e-01]]\n",
      "\n",
      " /home/atif/training_by_several_learning_process/number_classify/rgb_2_gray/Image-classification/test_image/80_speed.ppm\n",
      "predicted class:  [1]\n",
      "probability:  [[1.67524200e-02 5.18131673e-01 2.90110111e-01 5.74262701e-02\n",
      "  1.60703827e-02 1.01123095e-01 2.26887041e-05 1.04309918e-04\n",
      "  2.59080640e-04]]\n",
      "\n",
      " /home/atif/training_by_several_learning_process/number_classify/rgb_2_gray/Image-classification/test_image/30_speed.ppm\n",
      "predicted class:  [8]\n",
      "probability:  [[2.1495895e-01 2.8139773e-01 2.8533243e-02 4.1533046e-04 2.4079171e-03\n",
      "  1.3352152e-04 2.1235509e-09 5.7217203e-10 4.7215331e-01]]\n",
      "\n",
      " /home/atif/training_by_several_learning_process/number_classify/rgb_2_gray/Image-classification/test_image/white.ppm\n",
      "predicted class:  [7]\n",
      "probability:  [[8.2517359e-03 8.9134499e-02 1.4018509e-02 9.6347474e-04 4.1537687e-02\n",
      "  2.2805305e-02 9.1823716e-07 8.2328242e-01 5.3885251e-06]]\n",
      "\n",
      " /home/atif/training_by_several_learning_process/number_classify/rgb_2_gray/Image-classification/test_image/20_speed.ppm\n",
      "predicted class:  [1]\n",
      "probability:  [[9.8790623e-02 5.6737661e-01 1.3108097e-01 6.1719347e-04 1.5182801e-01\n",
      "  4.9430724e-02 3.0376278e-11 2.4655515e-06 8.7337237e-04]]\n",
      "\n",
      " /home/atif/training_by_several_learning_process/number_classify/rgb_2_gray/Image-classification/test_image/stop.ppm\n",
      "predicted class:  [7]\n",
      "probability:  [[4.45600845e-09 4.90189507e-07 1.23423796e-08 1.28907649e-08\n",
      "  7.10508004e-07 3.09366151e-04 6.25480292e-03 9.93434668e-01\n",
      "  1.09808996e-14]]\n",
      "\n",
      " /home/atif/training_by_several_learning_process/number_classify/rgb_2_gray/Image-classification/test_image/70_speed.ppm\n",
      "predicted class:  [4]\n",
      "probability:  [[1.5283107e-04 8.5496508e-02 1.8237779e-02 1.7112726e-02 8.7641811e-01\n",
      "  1.8791248e-03 5.6500248e-06 4.8212000e-06 6.9248036e-04]]\n"
     ]
    },
    {
     "name": "stderr",
     "output_type": "stream",
     "text": [
      "/home/atif/anaconda3/envs/venv/lib/python3.6/site-packages/skimage/transform/_warps.py:105: UserWarning: The default mode, 'constant', will be changed to 'reflect' in skimage 0.15.\n",
      "  warn(\"The default mode, 'constant', will be changed to 'reflect' in \"\n",
      "/home/atif/anaconda3/envs/venv/lib/python3.6/site-packages/skimage/transform/_warps.py:110: UserWarning: Anti-aliasing will be enabled by default in skimage 0.15 to avoid aliasing artifacts when down-sampling images.\n",
      "  warn(\"Anti-aliasing will be enabled by default in skimage 0.15 to \"\n"
     ]
    }
   ],
   "source": [
    "from keras.models import load_model\n",
    "model = load_model('/home/atif/training_by_several_learning_process/number_classify/rgb_2_gray/Image-classification/trained_model_text_file/image_size_8_data_type_float_trained_model/traffic_model_14_march_ep_100_int_val.h5')\n",
    "#for gray scale\n",
    "def preprocess_img(img):\n",
    "#     Histogram normalization in y\n",
    "#     hsv = color.rgb2hsv(img)\n",
    "#     hsv[:,:,2] = exposure.equalize_hist(hsv[:,:,2])\n",
    "#     img = color.hsv2rgb(hsv)\n",
    "\n",
    "    # central scrop\n",
    "    min_side = min(img.shape[:-1])\n",
    "    centre = img.shape[0]//2, img.shape[1]//2\n",
    "    img = img[centre[0]-min_side//2:centre[0]+min_side//2,\n",
    "              centre[1]-min_side//2:centre[1]+min_side//2,\n",
    "              :]\n",
    "    img = rgb2gray(img)\n",
    "\n",
    "    # rescale to standard size\n",
    "    img = transform.resize(img, (IMG_SIZE, IMG_SIZE))\n",
    "\n",
    "    # roll color axis to axis 0\n",
    "    img = np.rollaxis(img,-1)\n",
    "\n",
    "    return img\n",
    "\n",
    "import glob\n",
    "\n",
    "path = r'/home/atif/training_by_several_learning_process/number_classify/rgb_2_gray/Image-classification/test_image/'\n",
    "\n",
    "img_path = glob.glob(path+ '/*.ppm')\n",
    "for image in img_path:\n",
    "    X_test=[]\n",
    "    X_test.append(preprocess_img(io.imread(image)))\n",
    "    X_test = np.array(X_test)\n",
    "#     plt.imshow(X_test)\n",
    "    X_test = X_test.reshape(len(X_test),1,IMG_SIZE,IMG_SIZE)\n",
    "    \n",
    "    print(\"\\n\",image)\n",
    "    predicted_class = model.predict_classes(X_test)\n",
    "    print(\"predicted class: \",predicted_class)\n",
    "    \n",
    "    probability = model.predict_proba(X_test)\n",
    "    print(\"probability: \",probability)"
   ]
  },
  {
   "cell_type": "code",
   "execution_count": null,
   "metadata": {},
   "outputs": [],
   "source": [
    "print(X_test.shape)\n",
    "print(X_test.ndim)\n",
    "# plt.imshow(X_test[0])\n",
    "X_test_show = X_test.reshape(IMG_SIZE,IMG_SIZE) # Need if you want to see the image\\n\",\n",
    "print(X_test_show.shape)\n",
    "plt.imshow(X_test_show)  # Displaying the image\""
   ]
  },
  {
   "cell_type": "code",
   "execution_count": null,
   "metadata": {},
   "outputs": [],
   "source": []
  }
 ],
 "metadata": {
  "kernelspec": {
   "display_name": "Python 3",
   "language": "python",
   "name": "python3"
  },
  "language_info": {
   "codemirror_mode": {
    "name": "ipython",
    "version": 3
   },
   "file_extension": ".py",
   "mimetype": "text/x-python",
   "name": "python",
   "nbconvert_exporter": "python",
   "pygments_lexer": "ipython3",
   "version": "3.6.6"
  }
 },
 "nbformat": 4,
 "nbformat_minor": 2
}
