{
 "cells": [
  {
   "cell_type": "markdown",
   "metadata": {},
   "source": [
    "# Library import"
   ]
  },
  {
   "cell_type": "code",
   "execution_count": 1,
   "metadata": {},
   "outputs": [
    {
     "name": "stderr",
     "output_type": "stream",
     "text": [
      "Using TensorFlow backend.\n"
     ]
    }
   ],
   "source": [
    "import numpy as np\n",
    "from skimage import io, color, exposure, transform\n",
    "from skimage.color import rgb2gray\n",
    "#from sklearn.cross_validation import train_test_split\n",
    "from sklearn.model_selection import train_test_split  #it came from update scikit learn. https://stackoverflow.com/questions/40704484/importerror-no-module-named-model-selection\n",
    "import os\n",
    "import glob\n",
    "import h5py\n",
    "\n",
    "from keras.preprocessing.image import ImageDataGenerator\n",
    "from keras.models import Sequential, model_from_json\n",
    "from keras.layers.core import Dense, Dropout, Activation, Flatten\n",
    "from keras.layers.convolutional import Conv2D,Conv1D\n",
    "from keras.layers.pooling import MaxPooling2D\n",
    "\n",
    "from keras.layers.convolutional import Convolution2D, MaxPooling2D\n",
    "\n",
    "from keras.optimizers import SGD\n",
    "from keras.utils import np_utils\n",
    "from keras.callbacks import LearningRateScheduler, ModelCheckpoint\n",
    "from keras import backend as K\n",
    "K.set_image_data_format('channels_first')\n",
    "\n",
    "from matplotlib import pyplot as plt\n",
    "%matplotlib inline\n",
    "\n",
    "#import keras\n",
    "\n",
    "NUM_CLASSES = 5  #how many different type of class/type of image you are using. Like CAT,DOG, ELEPHANT etc\n",
    "IMG_SIZE = 48  # You can change it. Always keep same size for width and height. That means square size."
   ]
  },
  {
   "cell_type": "markdown",
   "metadata": {},
   "source": [
    "# Function for preprocessing image. Able for RGB & Gray Image"
   ]
  },
  {
   "cell_type": "code",
   "execution_count": 2,
   "metadata": {},
   "outputs": [],
   "source": [
    "#for gray scale\n",
    "def preprocess_img(img):\n",
    "    # Histogram normalization in y\n",
    "#     hsv = color.rgb2hsv(img)\n",
    "#     hsv[:,:,2] = exposure.equalize_hist(hsv[:,:,2])\n",
    "#     img = color.hsv2rgb(hsv)\n",
    "\n",
    "    # central scrop\n",
    "    min_side = min(img.shape[:-1])\n",
    "    centre = img.shape[0]//2, img.shape[1]//2\n",
    "    img = img[centre[0]-min_side//2:centre[0]+min_side//2,\n",
    "              centre[1]-min_side//2:centre[1]+min_side//2,\n",
    "              :]\n",
    "    img = rgb2gray(img)\n",
    "\n",
    "    # rescale to standard size\n",
    "    img = transform.resize(img, (IMG_SIZE, IMG_SIZE))\n",
    "\n",
    "    # roll color axis to axis 0\n",
    "    img = np.rollaxis(img,-1)\n",
    "\n",
    "    return img\n",
    "\n",
    "def get_class(img_path):\n",
    "    return int(img_path.split('/')[-2])"
   ]
  },
  {
   "cell_type": "markdown",
   "metadata": {},
   "source": [
    "# Store the image and label in array. Run this cell if you need to do training. For testing no need to run it"
   ]
  },
  {
   "cell_type": "code",
   "execution_count": 3,
   "metadata": {},
   "outputs": [
    {
     "name": "stderr",
     "output_type": "stream",
     "text": [
      "/home/atif/anaconda3/envs/venv/lib/python3.6/site-packages/skimage/transform/_warps.py:105: UserWarning: The default mode, 'constant', will be changed to 'reflect' in skimage 0.15.\n",
      "  warn(\"The default mode, 'constant', will be changed to 'reflect' in \"\n",
      "/home/atif/anaconda3/envs/venv/lib/python3.6/site-packages/skimage/transform/_warps.py:110: UserWarning: Anti-aliasing will be enabled by default in skimage 0.15 to avoid aliasing artifacts when down-sampling images.\n",
      "  warn(\"Anti-aliasing will be enabled by default in skimage 0.15 to \"\n"
     ]
    },
    {
     "name": "stdout",
     "output_type": "stream",
     "text": [
      "Processed 1000/3673\n",
      "Processed 2000/3673\n",
      "Processed 3000/3673\n"
     ]
    }
   ],
   "source": [
    "imgs = []\n",
    "labels = []\n",
    "root_dir = '/home/atif/training_by_several_learning_process/flower_photos/flower_train_images/'\n",
    "#path='/home/atif/training_by_several_learning_process/flower_photos/00000/'\n",
    "\n",
    "#all_img_paths = glob.glob(path+ '5547758_eea9edfd54_n_000.jpg')\n",
    "\n",
    "all_img_paths = glob.glob(os.path.join(root_dir, '*/*.jpg')) #I have done the training with .ppm format image. If another type of image will come \n",
    "                                                                                    #them .ppm will be changed by that extension\n",
    "np.random.shuffle(all_img_paths)\n",
    "for img_path in all_img_paths:\n",
    "    try:\n",
    "        img = preprocess_img(io.imread(img_path))\n",
    "        label = get_class(img_path)\n",
    "        imgs.append(img)\n",
    "        labels.append(label)\n",
    "\n",
    "        if len(imgs)%1000 == 0: print(\"Processed {}/{}\".format(len(imgs), len(all_img_paths)))\n",
    "            #print(\"get it 2\")\n",
    "    except (IOError, OSError):\n",
    "        print('missed', img_path)\n",
    "        pass\n",
    "\n",
    "X = np.array(imgs, dtype='float32') #Keeping the image as an array\n",
    "Y = np.eye(NUM_CLASSES, dtype='uint8')[labels] #labels of the image\n"
   ]
  },
  {
   "cell_type": "code",
   "execution_count": 7,
   "metadata": {},
   "outputs": [
    {
     "name": "stdout",
     "output_type": "stream",
     "text": [
      "(3673, 48, 48)\n",
      "(3673, 1, 48, 48)\n",
      "4\n",
      "(1, 48, 48)\n"
     ]
    },
    {
     "data": {
      "image/png": "[encoded data removed]",
      "text/plain": [
       "<Figure size 432x288 with 1 Axes>"
      ]
     },
     "metadata": {
      "needs_background": "light"
     },
     "output_type": "display_data"
    }
   ],
   "source": [
    "X = np.array(imgs, dtype='float32')\n",
    "print(X.shape)\n",
    "# plt.imshow(X[0])\n",
    "# plt.imshow(X[0],cmap=\"gray\")\n",
    "plt.imshow(X[0]) #if you use this command here you will see something coloured image. No problem, it is gray image. \n",
    "                        #To see full Black and white image uncomment the previous line.\n",
    "X = X.reshape(len(imgs),1,IMG_SIZE,IMG_SIZE) # write (IMG_SIZE,IMG_SIZE,1 if you want channel last; 1= grayscale;3=RGB)\n",
    "# plt.imshow(X[0],cmap=\"gray\")\n",
    "print(X.shape)\n",
    "print(X.ndim)\n",
    "print(X[0].shape)"
   ]
  },
  {
   "cell_type": "code",
   "execution_count": 8,
   "metadata": {},
   "outputs": [
    {
     "name": "stdout",
     "output_type": "stream",
     "text": [
      "(3673, 1, 48, 48)\n",
      "(3673, 5)\n"
     ]
    }
   ],
   "source": [
    "print(X.shape)\n",
    "print(Y.shape)"
   ]
  },
  {
   "cell_type": "markdown",
   "metadata": {},
   "source": [
    "# making a model. Run it for training and testing"
   ]
  },
  {
   "cell_type": "code",
   "execution_count": 9,
   "metadata": {},
   "outputs": [],
   "source": [
    "# This model is for understanding the inner calculation of CNN that's why I have started witha minimal layer as well as model.\n",
    "# Increase the filter number and layer if you want a good result\n",
    "#Conv2D(1, (3, 3) >> here 1 = number of filter. (3,3) = kernel height and width\n",
    "# you can just add padding just beside Conv2D. (model.add(Conv2D(1,(3,3)),padding='same',....))\n",
    "# I haven't added here for remove complexity in c++(I have tried to implement this whole model in testing phase in cpp)\n",
    "def cnn_model():\n",
    "#      padding='same'\n",
    "    model = Sequential()\n",
    "\n",
    "    model.add(Conv2D(1, (3, 3),\n",
    "                     input_shape=(1,IMG_SIZE, IMG_SIZE),\n",
    "                     activation='relu'))\n",
    "    model.add(Flatten())\n",
    "    model.add(Dense(NUM_CLASSES, activation='softmax'))\n",
    "    \n",
    "    return model\n",
    "\n",
    "model = cnn_model()\n",
    "\n",
    "lr = 0.01\n",
    "sgd = SGD(lr=lr, decay=1e-6, momentum=0.9, nesterov=True)\n",
    "model.compile(loss='categorical_crossentropy',\n",
    "          optimizer=sgd,\n",
    "          metrics=['accuracy'])"
   ]
  },
  {
   "cell_type": "code",
   "execution_count": 10,
   "metadata": {},
   "outputs": [
    {
     "name": "stdout",
     "output_type": "stream",
     "text": [
      "_________________________________________________________________\n",
      "Layer (type)                 Output Shape              Param #   \n",
      "=================================================================\n",
      "conv2d_1 (Conv2D)            (None, 1, 46, 46)         10        \n",
      "_________________________________________________________________\n",
      "flatten_1 (Flatten)          (None, 2116)              0         \n",
      "_________________________________________________________________\n",
      "dense_1 (Dense)              (None, 5)                 10585     \n",
      "=================================================================\n",
      "Total params: 10,595\n",
      "Trainable params: 10,595\n",
      "Non-trainable params: 0\n",
      "_________________________________________________________________\n"
     ]
    }
   ],
   "source": [
    "model.summary()"
   ]
  },
  {
   "cell_type": "markdown",
   "metadata": {},
   "source": [
    "# Training phase. Storing the model also for further use"
   ]
  },
  {
   "cell_type": "code",
   "execution_count": 12,
   "metadata": {},
   "outputs": [
    {
     "name": "stdout",
     "output_type": "stream",
     "text": [
      "Train on 2938 samples, validate on 735 samples\n",
      "Epoch 1/5\n",
      "2938/2938 [==============================] - 1s 437us/step - loss: 1.6000 - acc: 0.2645 - val_loss: 1.5839 - val_acc: 0.2735\n",
      "Epoch 2/5\n",
      "2938/2938 [==============================] - 1s 300us/step - loss: 1.5505 - acc: 0.3176 - val_loss: 1.5603 - val_acc: 0.3048\n",
      "Epoch 3/5\n",
      "2938/2938 [==============================] - 1s 293us/step - loss: 1.4775 - acc: 0.3659 - val_loss: 1.5558 - val_acc: 0.3048\n",
      "Epoch 4/5\n",
      "2938/2938 [==============================] - 1s 285us/step - loss: 1.4011 - acc: 0.4214 - val_loss: 1.5699 - val_acc: 0.3129\n",
      "Epoch 5/5\n",
      "2938/2938 [==============================] - 1s 281us/step - loss: 1.3108 - acc: 0.4789 - val_loss: 1.6717 - val_acc: 0.2776\n"
     ]
    },
    {
     "data": {
      "text/plain": [
       "<keras.callbacks.History at 0x7fc8a8a49ef0>"
      ]
     },
     "execution_count": 12,
     "metadata": {},
     "output_type": "execute_result"
    }
   ],
   "source": [
    "def lr_schedule(epoch):\n",
    "    return lr * (0.1 ** int(epoch / 10))\n",
    "\n",
    "batch_size = 32\n",
    "epochs = 5\n",
    "model.fit(X, Y,\n",
    "          batch_size=batch_size,\n",
    "          epochs=epochs,\n",
    "          validation_split=0.2,\n",
    "          #np.resize(img, (-1, <image shape>)\n",
    "          callbacks=[LearningRateScheduler(lr_schedule),ModelCheckpoint('/home/atif/training_by_several_learning_process/number_classify/rgb_2_gray/Image-classification/gray_flower_ep_5_ch_1.h5', save_best_only=True)])"
   ]
  },
  {
   "cell_type": "markdown",
   "metadata": {},
   "source": [
    "# testing image"
   ]
  },
  {
   "cell_type": "code",
   "execution_count": 13,
   "metadata": {},
   "outputs": [
    {
     "name": "stdout",
     "output_type": "stream",
     "text": [
      "\n",
      " /home/atif/training_by_several_learning_process/flower_photos/flower_test_image/test_im.jpg\n",
      "predicted class:  [1]\n",
      "probability:  [[0.17829023 0.23963664 0.18002798 0.18576029 0.21628486]]\n"
     ]
    },
    {
     "name": "stderr",
     "output_type": "stream",
     "text": [
      "/home/atif/anaconda3/envs/venv/lib/python3.6/site-packages/skimage/transform/_warps.py:105: UserWarning: The default mode, 'constant', will be changed to 'reflect' in skimage 0.15.\n",
      "  warn(\"The default mode, 'constant', will be changed to 'reflect' in \"\n",
      "/home/atif/anaconda3/envs/venv/lib/python3.6/site-packages/skimage/transform/_warps.py:110: UserWarning: Anti-aliasing will be enabled by default in skimage 0.15 to avoid aliasing artifacts when down-sampling images.\n",
      "  warn(\"Anti-aliasing will be enabled by default in skimage 0.15 to \"\n"
     ]
    }
   ],
   "source": [
    "from keras.models import load_model\n",
    "model = load_model('/home/atif/training_by_several_learning_process/flower_photos/train_model_flower/flw_gray_ch_1_ep_100_no_pad_relu_31_dec.h5')\n",
    "#for gray scale\n",
    "def preprocess_img(img):\n",
    "#     Histogram normalization in y\n",
    "#     hsv = color.rgb2hsv(img)\n",
    "#     hsv[:,:,2] = exposure.equalize_hist(hsv[:,:,2])\n",
    "#     img = color.hsv2rgb(hsv)\n",
    "\n",
    "    # central scrop\n",
    "    min_side = min(img.shape[:-1])\n",
    "    centre = img.shape[0]//2, img.shape[1]//2\n",
    "    img = img[centre[0]-min_side//2:centre[0]+min_side//2,\n",
    "              centre[1]-min_side//2:centre[1]+min_side//2,\n",
    "              :]\n",
    "    img = rgb2gray(img)\n",
    "\n",
    "    # rescale to standard size\n",
    "    img = transform.resize(img, (IMG_SIZE, IMG_SIZE))\n",
    "\n",
    "    # roll color axis to axis 0\n",
    "    img = np.rollaxis(img,-1)\n",
    "\n",
    "    return img\n",
    "\n",
    "import glob\n",
    "\n",
    "path = r'/home/atif/training_by_several_learning_process/flower_photos/flower_test_image/'\n",
    "\n",
    "img_path = glob.glob(path+ '/*.jpg')\n",
    "for image in img_path:\n",
    "    X_test=[]\n",
    "    X_test.append(preprocess_img(io.imread(image)))\n",
    "    X_test = np.array(X_test)\n",
    "#     plt.imshow(X_test)\n",
    "    X_test = X_test.reshape(len(X_test),1,IMG_SIZE,IMG_SIZE)\n",
    "    \n",
    "    print(\"\\n\",image)\n",
    "    predicted_class = model.predict_classes(X_test)\n",
    "    print(\"predicted class: \",predicted_class)\n",
    "    \n",
    "    probability = model.predict_proba(X_test)\n",
    "    print(\"probability: \",probability)"
   ]
  },
  {
   "cell_type": "code",
   "execution_count": 16,
   "metadata": {},
   "outputs": [
    {
     "name": "stdout",
     "output_type": "stream",
     "text": [
      "(1, 1, 48, 48)\n",
      "4\n",
      "(48, 48)\n"
     ]
    },
    {
     "data": {
      "text/plain": [
       "<matplotlib.image.AxesImage at 0x7fc8a0209438>"
      ]
     },
     "execution_count": 16,
     "metadata": {},
     "output_type": "execute_result"
    },
    {
     "data": {
      "image/png": "[encoded data removed]",
      "text/plain": [
       "<Figure size 432x288 with 1 Axes>"
      ]
     },
     "metadata": {
      "needs_background": "light"
     },
     "output_type": "display_data"
    }
   ],
   "source": [
    "print(X_test.shape)\n",
    "print(X_test.ndim)\n",
    "# plt.imshow(X_test[0])\n",
    "X_test_show = X_test.reshape(IMG_SIZE,IMG_SIZE) # Need if you want to see the image\n",
    "print(X_test_show.shape)\n",
    "plt.imshow(X_test_show) # Displaying the image"
   ]
  },
  {
   "cell_type": "markdown",
   "metadata": {},
   "source": [
    "# extracting the weight from trained model"
   ]
  },
  {
   "cell_type": "code",
   "execution_count": 12,
   "metadata": {},
   "outputs": [
    {
     "name": "stdout",
     "output_type": "stream",
     "text": [
      "g==  {'name': 'conv2d_1', 'trainable': True, 'batch_input_shape': (None, 1, 48, 48), 'dtype': 'float32', 'filters': 1, 'kernel_size': (3, 3), 'strides': (1, 1), 'padding': 'valid', 'data_format': 'channels_first', 'dilation_rate': (1, 1), 'activation': 'relu', 'use_bias': True, 'kernel_initializer': {'class_name': 'VarianceScaling', 'config': {'scale': 1.0, 'mode': 'fan_avg', 'distribution': 'uniform', 'seed': None}}, 'bias_initializer': {'class_name': 'Zeros', 'config': {}}, 'kernel_regularizer': None, 'bias_regularizer': None, 'activity_regularizer': None, 'kernel_constraint': None, 'bias_constraint': None} \n",
      "\n",
      "h==  [array([[[[-0.03033464]],\n",
      "\n",
      "        [[ 0.23801574]],\n",
      "\n",
      "        [[-0.56720567]]],\n",
      "\n",
      "\n",
      "       [[[ 0.24555111]],\n",
      "\n",
      "        [[-0.6949715 ]],\n",
      "\n",
      "        [[-0.06389805]]],\n",
      "\n",
      "\n",
      "       [[[-0.5152609 ]],\n",
      "\n",
      "        [[ 0.05478185]],\n",
      "\n",
      "        [[ 0.33108518]]]], dtype=float32), array([-0.35551634], dtype=float32)] \n",
      "\n",
      "\n",
      "g==  {'name': 'flatten_1', 'trainable': True, 'data_format': 'channels_first'} \n",
      "\n",
      "h==  [] \n",
      "\n",
      "\n",
      "g==  {'name': 'dense_1', 'trainable': True, 'units': 5, 'activation': 'softmax', 'use_bias': True, 'kernel_initializer': {'class_name': 'VarianceScaling', 'config': {'scale': 1.0, 'mode': 'fan_avg', 'distribution': 'uniform', 'seed': None}}, 'bias_initializer': {'class_name': 'Zeros', 'config': {}}, 'kernel_regularizer': None, 'bias_regularizer': None, 'activity_regularizer': None, 'kernel_constraint': None, 'bias_constraint': None} \n",
      "\n",
      "h==  [array([[ 0.02572025,  0.03265782, -0.01833312,  0.02983849,  0.05503121],\n",
      "       [-0.05123737,  0.01785515,  0.00602751, -0.05107643, -0.00307727],\n",
      "       [-0.00622287, -0.00842408,  0.01207713, -0.04138358,  0.05845851],\n",
      "       ...,\n",
      "       [ 0.03343552, -0.00784191,  0.05150667, -0.00721849, -0.04127815],\n",
      "       [ 0.01287838,  0.00819396,  0.03280327, -0.0312414 ,  0.00180113],\n",
      "       [ 0.03425178, -0.04119075, -0.01142644,  0.00084342,  0.01159499]],\n",
      "      dtype=float32), array([-0.13164842,  0.22658895, -0.13886377, -0.04813359,  0.09205692],\n",
      "      dtype=float32)] \n",
      "\n",
      "\n",
      "conv_kernel: \n",
      " [[[[-0.03033464  0.24555111 -0.5152609 ]\n",
      "   [ 0.23801574 -0.6949715   0.05478185]\n",
      "   [-0.56720567 -0.06389805  0.33108518]]]] \n",
      "\n",
      "\n",
      "conv_kernel shape:\t (1, 1, 3, 3) \n",
      "\n",
      "\n",
      "conv kernel dimension:\t 4 \n",
      "\n",
      "\n",
      "type_conv_kernel: <class 'numpy.ndarray'> \n",
      "\n",
      "conv_bias_value:  [-0.35551634]\n",
      "conv_bias ndim:  1 \n",
      "\n",
      "\n",
      "dense_kernel: \n",
      " [[ 0.02572025  0.03265782 -0.01833312  0.02983849  0.05503121]\n",
      " [-0.05123737  0.01785515  0.00602751 -0.05107643 -0.00307727]\n",
      " [-0.00622287 -0.00842408  0.01207713 -0.04138358  0.05845851]\n",
      " ...\n",
      " [ 0.03343552 -0.00784191  0.05150667 -0.00721849 -0.04127815]\n",
      " [ 0.01287838  0.00819396  0.03280327 -0.0312414   0.00180113]\n",
      " [ 0.03425178 -0.04119075 -0.01142644  0.00084342  0.01159499]] \n",
      "\n",
      "\n",
      "dense_kernel shape:\t (2116, 5) \n",
      "\n",
      "\n",
      "dense_kernel dimension:\t 2 \n",
      "\n",
      "\n",
      "type_dense_kernel: <class 'numpy.ndarray'> \n",
      "\n",
      "dense_kernel size:  10580 \n",
      "\n",
      "dense_bias:  [-0.13164842  0.22658895 -0.13886377 -0.04813359  0.09205692]\n",
      "dense_bias_shape:  (5,)\n",
      "dense_bias_shape:  (1, 5)\n"
     ]
    }
   ],
   "source": [
    "from keras.models import load_model\n",
    "import pandas as pd\n",
    "model = load_model('/home/atif/training_by_several_learning_process/number_classify/rgb_2_gray/Image-classification/gray_flower_ep_5_ch_1.h5')\n",
    "x_list=[]\n",
    "layer_list =[]\n",
    "i=0\n",
    "for layer in model.layers:\n",
    "    g=layer.get_config()\n",
    "    h=layer.get_weights()\n",
    "    \n",
    "    layer_list.append(h)\n",
    "    i=i+1\n",
    "    print (\"g== \",g,\"\\n\")\n",
    "\n",
    "    print (\"h== \",h,\"\\n\\n\")\n",
    "    #print(\"type_of g == \",type(g),\"\\n\")\n",
    "    #print(\"type_of h == \",type(h),\"\\n\")\n",
    "layer_name=['conv_layer','flatten_layer','dense_layer']\n",
    "        \n",
    "conv_kernel=layer_list[0][0]\n",
    "conv_kernel=conv_kernel.transpose()\n",
    "print(\"conv_kernel: \\n\",conv_kernel,\"\\n\\n\")\n",
    "print(\"conv_kernel shape:\\t\",conv_kernel.shape,\"\\n\\n\")\n",
    "print(\"conv kernel dimension:\\t\",conv_kernel.ndim,\"\\n\\n\")\n",
    "print(\"type_conv_kernel:\",type(conv_kernel),\"\\n\")\n",
    "#conv_kernel_reshape=conv_kernel.reshape(conv_kernel[3],conv_kernel[2],conv_kernel[1],conv_kernel[0])\n",
    "#print(\"re:  \",conv_kernel_reshape.shape)\n",
    "\n",
    "conv_bias=layer_list[0][1]\n",
    "print(\"conv_bias_value: \",conv_bias)\n",
    "print(\"conv_bias ndim: \",conv_bias.ndim,\"\\n\\n\")\n",
    "\n",
    "dense_kernel=layer_list[2][0]\n",
    "# conv_kernel=conv_kernel.transpose()\n",
    "print(\"dense_kernel: \\n\",dense_kernel,\"\\n\\n\")\n",
    "print(\"dense_kernel shape:\\t\",dense_kernel.shape,\"\\n\\n\")\n",
    "print(\"dense_kernel dimension:\\t\",dense_kernel.ndim,\"\\n\\n\")\n",
    "print(\"type_dense_kernel:\",type(dense_kernel),\"\\n\")\n",
    "print(\"dense_kernel size: \",dense_kernel.size,\"\\n\")\n",
    "# dense_1_transpose=dense__1.transpose()\n",
    "# print(\"dense_1_transpose: \",dense_1_transpose,\"\\n\\n\")\n",
    "\n",
    "\n",
    "dense_bias=layer_list[2][1]\n",
    "print(\"dense_bias: \",dense_bias)\n",
    "print(\"dense_bias_shape: \",dense_bias.shape)\n",
    "dense_bias=dense_bias.reshape(1,5)\n",
    "print(\"dense_bias_shape: \",dense_bias.shape)\n",
    "# print(dense_2[0])"
   ]
  },
  {
   "cell_type": "code",
   "execution_count": null,
   "metadata": {},
   "outputs": [],
   "source": []
  }
 ],
 "metadata": {
  "kernelspec": {
   "display_name": "Python 3",
   "language": "python",
   "name": "python3"
  },
  "language_info": {
   "codemirror_mode": {
    "name": "ipython",
    "version": 3
   },
   "file_extension": ".py",
   "mimetype": "text/x-python",
   "name": "python",
   "nbconvert_exporter": "python",
   "pygments_lexer": "ipython3",
   "version": "3.6.7"
  }
 },
 "nbformat": 4,
 "nbformat_minor": 2
}
